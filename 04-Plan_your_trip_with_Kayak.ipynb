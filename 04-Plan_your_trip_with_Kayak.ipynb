{
 "cells": [
  {
   "cell_type": "markdown",
   "metadata": {},
   "source": [
    "# Project: planning my next holidays ☀️\n",
    "\n",
    "Let's create a script that allows to get some information about all the hotels in a given city on <a href=\"https://www.booking.com\" target=\"_blank\">www.booking.com</a> 🧙\n",
    "\n",
    "**We strongly recommend that you use Scrapy, it will be much easier!**\n",
    "\n",
    "You can scrap as many information as you want, but we suggest that you get at least:\n",
    "\n",
    "* The hotel name, \n",
    "* The url to its booking.com page, \n",
    "* Its coordinates: latitude and longitude,\n",
    "* The score given by the website users,\n",
    "* The text description of the hotel.\n",
    "\n",
    "Then, you can execute this script for several cities from yesterday's list. Make sure you save the results in different files for each city and that the name of the city is stored in the filename (for later purposes 😉)."
   ]
  },
  {
   "cell_type": "code",
   "execution_count": 93,
   "metadata": {},
   "outputs": [],
   "source": [
    "import pandas as pd \n",
    "from sqlalchemy import create_engine\n",
    "import plotly.express as px\n",
    "import logging\n",
    "import os "
   ]
  },
  {
   "cell_type": "code",
   "execution_count": 7,
   "metadata": {},
   "outputs": [],
   "source": [
    "engine = create_engine(\"postgresql+psycopg2://\", echo=True)"
   ]
  },
  {
   "cell_type": "code",
   "execution_count": 36,
   "metadata": {},
   "outputs": [
    {
     "data": {
      "text/plain": [
       "(12148, 7)"
      ]
     },
     "execution_count": 36,
     "metadata": {},
     "output_type": "execute_result"
    }
   ],
   "source": [
    "path_to_file=\"/Users/saas1/OneDrive/Escritorio/introduction_to_ python_for_data_science/Projects/Project_3/Project/\"\n",
    "\n",
    "data_frame_1=pd.read_csv (path_to_file +\"/cities.csv\",index_col='Unnamed: 0')\n",
    "data_frame_2=pd.read_excel(path_to_file +\"/hotel.xlsx\",index_col='Unnamed: 0')\n",
    "\n",
    "data_frame_2.shape\n"
   ]
  },
  {
   "cell_type": "code",
   "execution_count": 37,
   "metadata": {},
   "outputs": [
    {
     "data": {
      "text/html": [
       "<div>\n",
       "<style scoped>\n",
       "    .dataframe tbody tr th:only-of-type {\n",
       "        vertical-align: middle;\n",
       "    }\n",
       "\n",
       "    .dataframe tbody tr th {\n",
       "        vertical-align: top;\n",
       "    }\n",
       "\n",
       "    .dataframe thead th {\n",
       "        text-align: right;\n",
       "    }\n",
       "</style>\n",
       "<table border=\"1\" class=\"dataframe\">\n",
       "  <thead>\n",
       "    <tr style=\"text-align: right;\">\n",
       "      <th></th>\n",
       "      <th>name</th>\n",
       "      <th>score</th>\n",
       "      <th>city</th>\n",
       "      <th>lon</th>\n",
       "      <th>lat</th>\n",
       "    </tr>\n",
       "  </thead>\n",
       "  <tbody>\n",
       "    <tr>\n",
       "      <th>0</th>\n",
       "      <td>Hôtel Vert</td>\n",
       "      <td>8.1</td>\n",
       "      <td>Mont Saint Michel</td>\n",
       "      <td>-1.509617</td>\n",
       "      <td>48.614700</td>\n",
       "    </tr>\n",
       "    <tr>\n",
       "      <th>1</th>\n",
       "      <td>Mercure Mont Saint Michel</td>\n",
       "      <td>8.2</td>\n",
       "      <td>Mont Saint Michel</td>\n",
       "      <td>-1.510545</td>\n",
       "      <td>48.614247</td>\n",
       "    </tr>\n",
       "    <tr>\n",
       "      <th>2</th>\n",
       "      <td>Hotel De La Digue</td>\n",
       "      <td>7.1</td>\n",
       "      <td>Mont Saint Michel</td>\n",
       "      <td>-1.510918</td>\n",
       "      <td>48.616882</td>\n",
       "    </tr>\n",
       "    <tr>\n",
       "      <th>3</th>\n",
       "      <td>Le Saint Aubert</td>\n",
       "      <td>7.3</td>\n",
       "      <td>Mont Saint Michel</td>\n",
       "      <td>-1.510105</td>\n",
       "      <td>48.612938</td>\n",
       "    </tr>\n",
       "    <tr>\n",
       "      <th>4</th>\n",
       "      <td>Les Terrasses Poulard</td>\n",
       "      <td>7.3</td>\n",
       "      <td>Mont Saint Michel</td>\n",
       "      <td>-1.510379</td>\n",
       "      <td>48.635349</td>\n",
       "    </tr>\n",
       "  </tbody>\n",
       "</table>\n",
       "</div>"
      ],
      "text/plain": [
       "                        name  score               city       lon        lat\n",
       "0                 Hôtel Vert    8.1  Mont Saint Michel -1.509617  48.614700\n",
       "1  Mercure Mont Saint Michel    8.2  Mont Saint Michel -1.510545  48.614247\n",
       "2          Hotel De La Digue    7.1  Mont Saint Michel -1.510918  48.616882\n",
       "3            Le Saint Aubert    7.3  Mont Saint Michel -1.510105  48.612938\n",
       "4      Les Terrasses Poulard    7.3  Mont Saint Michel -1.510379  48.635349"
      ]
     },
     "execution_count": 37,
     "metadata": {},
     "output_type": "execute_result"
    }
   ],
   "source": [
    "data_frame_2= data_frame_2.drop(['url', 'description'], axis=1)\n",
    "data_frame_2.dropna(subset=['score'], inplace=True)\n",
    "data_frame_2['score'] = data_frame_2['score'].str.replace(',','.')\n",
    "data_frame_2['score'] = data_frame_2['score'].astype(float)\n",
    "data_frame_2.head()"
   ]
  },
  {
   "cell_type": "code",
   "execution_count": 15,
   "metadata": {},
   "outputs": [],
   "source": [
    "data_frame_1.to_sql(\"cities\",engine)\n"
   ]
  },
  {
   "cell_type": "code",
   "execution_count": 38,
   "metadata": {},
   "outputs": [],
   "source": [
    "best_5=[\"Collioure\", \"Marseille\", \"Cassis\",\"Bayonne\", \"Bormes les Mimosas\"]\n",
    "\n",
    "data_frame_2=data_frame_2[data_frame_2['city'].isin(best_5)]\n"
   ]
  },
  {
   "cell_type": "code",
   "execution_count": 39,
   "metadata": {},
   "outputs": [
    {
     "name": "stdout",
     "output_type": "stream",
     "text": [
      "2021-10-18 19:48:39,513 INFO sqlalchemy.engine.base.Engine select relname from pg_class c join pg_namespace n on n.oid=c.relnamespace where pg_catalog.pg_table_is_visible(c.oid) and relname=%(name)s\n",
      "2021-10-18 19:48:39,514 INFO sqlalchemy.engine.base.Engine {'name': 'hotels_france'}\n",
      "2021-10-18 19:48:39,889 INFO sqlalchemy.engine.base.Engine \n",
      "CREATE TABLE hotels_france (\n",
      "\tindex BIGINT, \n",
      "\tname TEXT, \n",
      "\tscore FLOAT(53), \n",
      "\tcity TEXT, \n",
      "\tlon FLOAT(53), \n",
      "\tlat FLOAT(53)\n",
      ")\n",
      "\n",
      "\n",
      "2021-10-18 19:48:39,891 INFO sqlalchemy.engine.base.Engine {}\n",
      "2021-10-18 19:48:40,155 INFO sqlalchemy.engine.base.Engine COMMIT\n",
      "2021-10-18 19:48:40,280 INFO sqlalchemy.engine.base.Engine CREATE INDEX ix_hotels_france_index ON hotels_france (index)\n",
      "2021-10-18 19:48:40,281 INFO sqlalchemy.engine.base.Engine {}\n",
      "2021-10-18 19:48:40,530 INFO sqlalchemy.engine.base.Engine COMMIT\n",
      "2021-10-18 19:48:40,656 INFO sqlalchemy.engine.base.Engine BEGIN (implicit)\n",
      "2021-10-18 19:48:40,675 INFO sqlalchemy.engine.base.Engine INSERT INTO hotels_france (index, name, score, city, lon, lat) VALUES (%(index)s, %(name)s, %(score)s, %(city)s, %(lon)s, %(lat)s)\n",
      "2021-10-18 19:48:40,676 INFO sqlalchemy.engine.base.Engine ({'index': 6900, 'name': 'Camping Lou Cabasson', 'score': 8.4, 'city': 'Bormes les Mimosas', 'lon': 6.33001287274965, 'lat': 43.1249993161731}, {'index': 6901, 'name': 'Studio avec Jardin et Parking Privés', 'score': 8.7, 'city': 'Bormes les Mimosas', 'lon': 6.3367149, 'lat': 43.1403633}, {'index': 6902, 'name': 'HomeStay Bormes', 'score': 9.7, 'city': 'Bormes les Mimosas', 'lon': 6.327724, 'lat': 43.146445}, {'index': 6903, 'name': 'Appartement Bord de Mer La Faviere', 'score': 8.2, 'city': 'Bormes les Mimosas', 'lon': 6.35675466749376, 'lat': 43.1260259397312}, {'index': 6904, 'name': 'Les Terrasses', 'score': 8.2, 'city': 'Bormes les Mimosas', 'lon': 6.35149039999999, 'lat': 43.1441295}, {'index': 6905, 'name': 'Asklan', 'score': 7.9, 'city': 'Bormes les Mimosas', 'lon': 6.35946595707777, 'lat': 43.1226484324196}, {'index': 6906, 'name': 'Le petit atelier', 'score': 9.0, 'city': 'Bormes les Mimosas', 'lon': 6.3491788, 'lat': 43.142501}, {'index': 6907, 'name': 'Coeur de village', 'score': 8.4, 'city': 'Bormes les Mimosas', 'lon': 6.342641, 'lat': 43.150077}  ... displaying 10 of 1126 total bound parameter sets ...  {'index': 11874, 'name': 'Eroso Saint Esprit proche gare WIFI bureaux', 'score': 8.3, 'city': 'Bayonne', 'lon': -1.467981676057, 'lat': 43.497471325878}, {'index': 11879, 'name': 'Appartement récent, proche centre ancien', 'score': 8.0, 'city': 'Bayonne', 'lon': -1.4842267, 'lat': 43.4868097})\n",
      "2021-10-18 19:51:00,742 INFO sqlalchemy.engine.base.Engine COMMIT\n"
     ]
    }
   ],
   "source": [
    "data_frame_2.to_sql(\"hotels_france\",engine)"
   ]
  },
  {
   "cell_type": "code",
   "execution_count": 50,
   "metadata": {},
   "outputs": [
    {
     "name": "stdout",
     "output_type": "stream",
     "text": [
      "2021-10-18 20:04:25,195 INFO sqlalchemy.engine.base.Engine select relname from pg_class c join pg_namespace n on n.oid=c.relnamespace where pg_catalog.pg_table_is_visible(c.oid) and relname=%(name)s\n",
      "2021-10-18 20:04:25,198 INFO sqlalchemy.engine.base.Engine {'name': 'SELECT * FROM hotels_france '}\n",
      "2021-10-18 20:04:25,584 INFO sqlalchemy.engine.base.OptionEngine SELECT * FROM hotels_france \n",
      "2021-10-18 20:04:25,585 INFO sqlalchemy.engine.base.OptionEngine {}\n",
      "2021-10-18 20:04:26,367 INFO sqlalchemy.engine.base.Engine select relname from pg_class c join pg_namespace n on n.oid=c.relnamespace where pg_catalog.pg_table_is_visible(c.oid) and relname=%(name)s\n",
      "2021-10-18 20:04:26,368 INFO sqlalchemy.engine.base.Engine {'name': 'SELECT * FROM cities '}\n",
      "2021-10-18 20:04:26,770 INFO sqlalchemy.engine.base.OptionEngine SELECT * FROM cities \n",
      "2021-10-18 20:04:26,771 INFO sqlalchemy.engine.base.OptionEngine {}\n"
     ]
    }
   ],
   "source": [
    "from sqlalchemy.sql import text\n",
    "\n",
    "stmt = text(\"SELECT * FROM hotels_france \")\n",
    "\n",
    "df_hotels = pd.read_sql(\n",
    "        stmt,\n",
    "        engine\n",
    "    )\n",
    "\n",
    "\n",
    "\n",
    "from sqlalchemy.sql import text\n",
    "\n",
    "stmt = text(\"SELECT * FROM cities \")\n",
    "\n",
    "df_cities = pd.read_sql(\n",
    "        stmt,\n",
    "        engine\n",
    "    )\n"
   ]
  },
  {
   "cell_type": "code",
   "execution_count": 91,
   "metadata": {},
   "outputs": [
    {
     "data": {
      "text/html": [
       "<div>\n",
       "<style scoped>\n",
       "    .dataframe tbody tr th:only-of-type {\n",
       "        vertical-align: middle;\n",
       "    }\n",
       "\n",
       "    .dataframe tbody tr th {\n",
       "        vertical-align: top;\n",
       "    }\n",
       "\n",
       "    .dataframe thead th {\n",
       "        text-align: right;\n",
       "    }\n",
       "</style>\n",
       "<table border=\"1\" class=\"dataframe\">\n",
       "  <thead>\n",
       "    <tr style=\"text-align: right;\">\n",
       "      <th></th>\n",
       "      <th>index</th>\n",
       "      <th>name</th>\n",
       "      <th>score</th>\n",
       "      <th>city</th>\n",
       "      <th>lon</th>\n",
       "      <th>lat</th>\n",
       "    </tr>\n",
       "  </thead>\n",
       "  <tbody>\n",
       "    <tr>\n",
       "      <th>0</th>\n",
       "      <td>9543</td>\n",
       "      <td>Boramar</td>\n",
       "      <td>9.7</td>\n",
       "      <td>Collioure</td>\n",
       "      <td>3.085355</td>\n",
       "      <td>42.527543</td>\n",
       "    </tr>\n",
       "    <tr>\n",
       "      <th>1</th>\n",
       "      <td>9547</td>\n",
       "      <td>Michelet</td>\n",
       "      <td>9.7</td>\n",
       "      <td>Collioure</td>\n",
       "      <td>3.081826</td>\n",
       "      <td>42.526520</td>\n",
       "    </tr>\n",
       "    <tr>\n",
       "      <th>2</th>\n",
       "      <td>9611</td>\n",
       "      <td>Le Mouret</td>\n",
       "      <td>9.5</td>\n",
       "      <td>Collioure</td>\n",
       "      <td>3.084889</td>\n",
       "      <td>42.528223</td>\n",
       "    </tr>\n",
       "    <tr>\n",
       "      <th>3</th>\n",
       "      <td>9579</td>\n",
       "      <td>Studio Canta la Mar - Vue exceptionnelle</td>\n",
       "      <td>9.5</td>\n",
       "      <td>Collioure</td>\n",
       "      <td>3.090316</td>\n",
       "      <td>42.524431</td>\n",
       "    </tr>\n",
       "    <tr>\n",
       "      <th>4</th>\n",
       "      <td>9661</td>\n",
       "      <td>Le 15-Appartments Collioure</td>\n",
       "      <td>9.5</td>\n",
       "      <td>Collioure</td>\n",
       "      <td>3.078625</td>\n",
       "      <td>42.528518</td>\n",
       "    </tr>\n",
       "    <tr>\n",
       "      <th>...</th>\n",
       "      <td>...</td>\n",
       "      <td>...</td>\n",
       "      <td>...</td>\n",
       "      <td>...</td>\n",
       "      <td>...</td>\n",
       "      <td>...</td>\n",
       "    </tr>\n",
       "    <tr>\n",
       "      <th>95</th>\n",
       "      <td>6950</td>\n",
       "      <td>Les Bastides du Haut Para</td>\n",
       "      <td>9.0</td>\n",
       "      <td>Bormes les Mimosas</td>\n",
       "      <td>6.325990</td>\n",
       "      <td>43.145951</td>\n",
       "    </tr>\n",
       "    <tr>\n",
       "      <th>96</th>\n",
       "      <td>6978</td>\n",
       "      <td>Apartment Le Jardin du Loderi-1</td>\n",
       "      <td>9.0</td>\n",
       "      <td>Bormes les Mimosas</td>\n",
       "      <td>6.343075</td>\n",
       "      <td>43.144703</td>\n",
       "    </tr>\n",
       "    <tr>\n",
       "      <th>97</th>\n",
       "      <td>6906</td>\n",
       "      <td>Le petit atelier</td>\n",
       "      <td>9.0</td>\n",
       "      <td>Bormes les Mimosas</td>\n",
       "      <td>6.349179</td>\n",
       "      <td>43.142501</td>\n",
       "    </tr>\n",
       "    <tr>\n",
       "      <th>98</th>\n",
       "      <td>6946</td>\n",
       "      <td>Les ammonites</td>\n",
       "      <td>9.0</td>\n",
       "      <td>Bormes les Mimosas</td>\n",
       "      <td>6.356524</td>\n",
       "      <td>43.122856</td>\n",
       "    </tr>\n",
       "    <tr>\n",
       "      <th>99</th>\n",
       "      <td>6940</td>\n",
       "      <td>Studio L'escapade classé 3 étoiles</td>\n",
       "      <td>9.0</td>\n",
       "      <td>Bormes les Mimosas</td>\n",
       "      <td>6.354392</td>\n",
       "      <td>43.122819</td>\n",
       "    </tr>\n",
       "  </tbody>\n",
       "</table>\n",
       "<p>100 rows × 6 columns</p>\n",
       "</div>"
      ],
      "text/plain": [
       "    index                                      name  score  \\\n",
       "0    9543                                   Boramar    9.7   \n",
       "1    9547                                  Michelet    9.7   \n",
       "2    9611                                 Le Mouret    9.5   \n",
       "3    9579  Studio Canta la Mar - Vue exceptionnelle    9.5   \n",
       "4    9661               Le 15-Appartments Collioure    9.5   \n",
       "..    ...                                       ...    ...   \n",
       "95   6950                 Les Bastides du Haut Para    9.0   \n",
       "96   6978           Apartment Le Jardin du Loderi-1    9.0   \n",
       "97   6906                          Le petit atelier    9.0   \n",
       "98   6946                             Les ammonites    9.0   \n",
       "99   6940        Studio L'escapade classé 3 étoiles    9.0   \n",
       "\n",
       "                  city       lon        lat  \n",
       "0            Collioure  3.085355  42.527543  \n",
       "1            Collioure  3.081826  42.526520  \n",
       "2            Collioure  3.084889  42.528223  \n",
       "3            Collioure  3.090316  42.524431  \n",
       "4            Collioure  3.078625  42.528518  \n",
       "..                 ...       ...        ...  \n",
       "95  Bormes les Mimosas  6.325990  43.145951  \n",
       "96  Bormes les Mimosas  6.343075  43.144703  \n",
       "97  Bormes les Mimosas  6.349179  43.142501  \n",
       "98  Bormes les Mimosas  6.356524  43.122856  \n",
       "99  Bormes les Mimosas  6.354392  43.122819  \n",
       "\n",
       "[100 rows x 6 columns]"
      ]
     },
     "execution_count": 91,
     "metadata": {},
     "output_type": "execute_result"
    }
   ],
   "source": [
    "df_hotels=df_hotels.sort_values(by='score', ascending=False).reset_index(drop=True)\n",
    "\n",
    "best_5=[\"Collioure\", \"Marseille\", \"Cassis\",\"Bayonne\", \"Bormes les Mimosas\"]\n",
    "hotels_df=pd.DataFrame()\n",
    "\n",
    "for i in best_5:\n",
    "    hotels_df=hotels_df.append(df_hotels[df_hotels[\"city\"]==i].iloc[0:20,:])\n",
    "\n",
    "hotels_df.reset_index(drop=True)"
   ]
  },
  {
   "cell_type": "code",
   "execution_count": 109,
   "metadata": {},
   "outputs": [
    {
     "data": {
      "application/vnd.plotly.v1+json": {
       "config": {
        "plotlyServerURL": "https://plot.ly"
       },
       "data": [
        {
         "hovertemplate": "<b>%{hovertext}</b><br><br>score=%{marker.color}<br>lat=%{lat}<br>lon=%{lon}<extra></extra>",
         "hovertext": [
          "Boramar",
          "Michelet",
          "Le Mouret",
          "Studio Canta la Mar - Vue exceptionnelle",
          "Le 15-Appartments Collioure",
          "Résidence Collioure Plage",
          "Appartement Sous le Soleil",
          "Les Suites de Collioure",
          "Appartement Collioure",
          "Maison à Collioure, terrasses, jardin, parking",
          "Appartement Charmant à Collioure",
          "La Chambre De Salome",
          "Appartement de charme terrasse solarium au calme",
          "Appartement Centre Collioure Patio Wifi Clim",
          "Residence Port D'Avall",
          "COLLIOURE tres bel appart a 150 metres des plages avec jardin prive et parking dans residence securisee",
          "Le Relais Des Trois Mas",
          "appart central",
          "Studio Centre Plage",
          "3 Rue Marceau",
          "Apartment La Maison de Protis - MSE100",
          "Suite sur la mer Marseille Corniche",
          "SEJOUR CHEZ L'HABITANT - VIEUX PORT - CLIMA - WIFI - TV - T2 60mts - APPARTEMENT PARTAGÉ - LGBT FRIENDLY",
          "Charmant F4 proche de la gare Saint Charles",
          "LE CASTEL ET MUCEM",
          "La perle du Panier",
          "Maison ensoleillée à 15 minutes de CASSIS",
          "T2 - Quartier mythique du panier",
          "le T3 à 600mètre du vieux port proche de la gare",
          "Villa Cottreau",
          "Paradis",
          "Le SAINT PIERRE, TIMONE CONCEPTION, 4 chambres, experience-immo",
          "Cabanon Marseillais 45 m2 sur l'eau à Malmousque",
          "Le Transvaal-Maison d'Hôtes",
          "APPARTEMENT EN SOUS SOL DE VILLA AVEC JARDIN ET PISCINE",
          "Le grand studio sur la piscine jaccuzi avec parking chanot",
          "Maison de Ville",
          "La Luna B&B",
          "Appartement Marseille Vacances",
          "Studio calme et très lumineux, au pied de notre Dame de la Garde",
          "Maison°9",
          "THE ADDRESS CASSIS",
          "Terres Marine",
          "T2 VUE IMPRENABLE SUR CASSIS",
          "charmant studio",
          "\"Côté Charlemagne\" Centre-ville Garage Piscine Terrasse",
          "Les Trois Oliviers à Cassis",
          "Appartement le Quai du Port Cassis parking clim",
          "SunRise Cassis",
          "Chambre d'hôtes Clos du Petit Jésus",
          "CassisBAY",
          "Sleep in Cassis",
          "vue cap canaille et proche centre",
          "Puerta Del Sol",
          "Villa le sud appartements",
          "Le petit cassis vue mer appartement 70m2",
          "Le Clocher de Cassis",
          "La Demeure Insoupçonnée",
          "Guest House Olivades",
          "SunSet Cassis",
          "Libertitu",
          "Euskal etxea",
          "UNIQUE APPARTEMENT TYPE HAUSSMANIEN - BAYONNE CENTRE",
          "La Chambre d'Hote de Mano - Centre-ville de Bayonne",
          "Péniche DJEBELLE",
          "residence saint bernard",
          "Appartement au calme proximité centre",
          "Bayonne en plein cœur Centre Historique 2 chambres",
          "5 Rue des Faures",
          "Carré des Halles Centre Historique",
          "Cosy appartement Bayonne historique",
          "23 Avenue du 8 Mai 1945",
          "Parc 709 Bayonne",
          "VELVET KEYWEEK Stunning apartment in Bayonne heart of town",
          "Large and confortable apartment on Bayonne city-center - Welkeys",
          "Baiona",
          "Standing - Cœur petit Bayonne - parking gratuit",
          "Appmt Cosy 2 pièces - Haut Standing",
          "Studio Centre Ville Office De Tourisme",
          "Villa la Renaissance",
          "charmante villa individuelle proche de la mer",
          "Les deux mas",
          "HomeStay Bormes",
          "Joli studio rénové en bord de mer",
          "My Little Provence",
          "The Little House",
          "Boulevard du Soleil",
          "Rez de Villa Bormes les mimosas le Lavandou",
          "Villa Nais B&B",
          "Appartement climatisé neuf vieux village Bormes",
          "Résidence Les Terrasses du Mirage - Duplex vue mer",
          "Grand Studio 3 étoiles",
          "La petite Provence",
          "Merveille",
          "Studio centre historique de Bormes les Mimosas",
          "Les Bastides du Haut Para",
          "Apartment Le Jardin du Loderi-1",
          "Le petit atelier",
          "Les ammonites",
          "Studio L'escapade classé 3 étoiles"
         ],
         "lat": [
          42.527543,
          42.52652,
          42.528223355826,
          42.5244310979188,
          42.5285178857171,
          42.5238923808024,
          42.5271222,
          42.52439,
          42.527375,
          42.529173451782,
          42.5226094,
          42.5211168959405,
          42.5250372834424,
          42.527392290863,
          42.522267294742,
          42.5224086,
          42.5241728057302,
          42.524882420258,
          42.522987676568,
          42.5234385,
          43.296818,
          43.2757625,
          43.297153854113,
          43.308235,
          43.302213994974,
          43.297865173024,
          43.295093604231,
          43.29958210977,
          43.2966574,
          43.2437512,
          43.2882074,
          43.291650755379,
          43.2831443,
          43.3086939,
          43.250194322954,
          43.27549,
          43.2834187056301,
          43.2785784471771,
          43.299921398862,
          43.2863751,
          43.2184652,
          43.220408,
          43.219128339916,
          43.214622142862,
          43.2152729,
          43.2179547375531,
          43.2109664,
          43.2148357,
          43.215219077059,
          43.2152456888053,
          43.2206727,
          43.21351434634,
          43.216214500771,
          43.228507,
          43.233049,
          43.2330331296979,
          43.215602,
          43.2191999,
          43.233049,
          43.215456,
          43.494486,
          43.4872203,
          43.484436388929,
          43.4953023169723,
          43.496335,
          43.490268,
          43.471391732493,
          43.4890699,
          43.4893908,
          43.4898854,
          43.4952,
          43.4728192,
          43.495606,
          43.4926679,
          43.4940723,
          43.48722,
          43.4891943,
          43.4959356,
          43.494417900082,
          43.482321,
          43.135475065835,
          43.143936592874,
          43.146445,
          43.122815061413,
          43.121209117145,
          43.150360805018,
          43.149232813225,
          43.1461474,
          43.1591554313712,
          43.150692,
          43.143424963082,
          43.145389553984,
          43.1512709909675,
          43.1521251,
          43.1503605745765,
          43.1459508,
          43.144703,
          43.142501,
          43.1228555,
          43.1228185
         ],
         "legendgroup": "",
         "lon": [
          3.085355,
          3.081826,
          3.084889264206,
          3.09031585214175,
          3.07862498895497,
          3.08739067301633,
          3.07651609999994,
          3.082726,
          3.078986,
          3.078195275495,
          3.0866733,
          3.07730913162231,
          3.07283600460994,
          3.082283396313,
          3.088695332819,
          3.0869409,
          3.08931067585945,
          3.08187893170178,
          3.08732966412903,
          3.0850118,
          5.363781,
          5.3616037,
          5.373914139287,
          5.3795189,
          5.364950225967,
          5.365812696555,
          5.526984555233,
          5.367199747885,
          5.3810786,
          5.3940053,
          5.3791713,
          5.409047798148,
          5.3484083,
          5.3997429,
          5.396383913822,
          5.4127215,
          5.3679329000347,
          5.35831801593304,
          5.428878872179,
          5.3709143,
          5.5506234,
          5.54109,
          5.530247928571,
          5.534772758342,
          5.5418386,
          5.53864412537838,
          5.5472613,
          5.5360761,
          5.535681865746,
          5.54466784000397,
          5.5384389,
          5.539700449428,
          5.544920378845,
          5.53168099999994,
          5.55305,
          5.54128021001816,
          5.5377111,
          5.54713649999997,
          5.553046,
          5.535734,
          -1.483622,
          -1.4658403,
          -1.4608242,
          -1.46939464418028,
          -1.473749,
          -1.488419,
          -1.486316218016,
          -1.4755226,
          -1.4790953,
          -1.4755752,
          -1.469412,
          -1.4858856,
          -1.481317,
          -1.4752923,
          -1.46441379999999,
          -1.46584,
          -1.4733835,
          -1.4694012,
          -1.48020045,
          -1.468164,
          6.34520855,
          6.336323240475,
          6.327724,
          6.352873926878,
          6.357578741897,
          6.342202005523,
          6.341970146281,
          6.3551951,
          6.32169306278229,
          6.342641,
          6.351393840475,
          6.352965860852,
          6.34190676683048,
          6.303449,
          6.34262602776289,
          6.3259902,
          6.343075,
          6.3491788,
          6.3565244,
          6.3543924
         ],
         "marker": {
          "color": [
           9.7,
           9.7,
           9.5,
           9.5,
           9.5,
           9.4,
           9.4,
           9.4,
           9.3,
           9.2,
           9.1,
           9.1,
           9.1,
           9.1,
           9.1,
           9.1,
           9,
           9,
           9,
           9,
           10,
           9.8,
           9.8,
           9.7,
           9.7,
           9.7,
           9.7,
           9.7,
           9.7,
           9.7,
           9.7,
           9.7,
           9.7,
           9.7,
           9.7,
           9.7,
           9.7,
           9.7,
           9.6,
           9.6,
           9.9,
           9.8,
           9.7,
           9.7,
           9.7,
           9.7,
           9.7,
           9.6,
           9.6,
           9.6,
           9.6,
           9.6,
           9.6,
           9.6,
           9.5,
           9.5,
           9.5,
           9.5,
           9.5,
           9.5,
           9.9,
           9.7,
           9.7,
           9.7,
           9.6,
           9.6,
           9.5,
           9.4,
           9.4,
           9.4,
           9.4,
           9.4,
           9.4,
           9.4,
           9.3,
           9.3,
           9.2,
           9.2,
           9.2,
           9.1,
           9.7,
           9.7,
           9.7,
           9.5,
           9.4,
           9.4,
           9.3,
           9.3,
           9.3,
           9.3,
           9.3,
           9.2,
           9.2,
           9.1,
           9,
           9,
           9,
           9,
           9,
           9
          ],
          "coloraxis": "coloraxis",
          "size": [
           9.7,
           9.7,
           9.5,
           9.5,
           9.5,
           9.4,
           9.4,
           9.4,
           9.3,
           9.2,
           9.1,
           9.1,
           9.1,
           9.1,
           9.1,
           9.1,
           9,
           9,
           9,
           9,
           10,
           9.8,
           9.8,
           9.7,
           9.7,
           9.7,
           9.7,
           9.7,
           9.7,
           9.7,
           9.7,
           9.7,
           9.7,
           9.7,
           9.7,
           9.7,
           9.7,
           9.7,
           9.6,
           9.6,
           9.9,
           9.8,
           9.7,
           9.7,
           9.7,
           9.7,
           9.7,
           9.6,
           9.6,
           9.6,
           9.6,
           9.6,
           9.6,
           9.6,
           9.5,
           9.5,
           9.5,
           9.5,
           9.5,
           9.5,
           9.9,
           9.7,
           9.7,
           9.7,
           9.6,
           9.6,
           9.5,
           9.4,
           9.4,
           9.4,
           9.4,
           9.4,
           9.4,
           9.4,
           9.3,
           9.3,
           9.2,
           9.2,
           9.2,
           9.1,
           9.7,
           9.7,
           9.7,
           9.5,
           9.4,
           9.4,
           9.3,
           9.3,
           9.3,
           9.3,
           9.3,
           9.2,
           9.2,
           9.1,
           9,
           9,
           9,
           9,
           9,
           9
          ],
          "sizemode": "area",
          "sizeref": 0.1
         },
         "mode": "markers",
         "name": "",
         "showlegend": false,
         "subplot": "mapbox",
         "type": "scattermapbox"
        }
       ],
       "layout": {
        "coloraxis": {
         "cmax": 10,
         "cmin": 8,
         "colorbar": {
          "title": {
           "text": "score"
          }
         },
         "colorscale": [
          [
           0,
           "rgb(0,0,255)"
          ],
          [
           1,
           "rgb(255,0,0)"
          ]
         ]
        },
        "legend": {
         "itemsizing": "constant",
         "tracegroupgap": 0
        },
        "mapbox": {
         "center": {
          "lat": 43.13286833776675,
          "lon": 3.775903091698051
         },
         "domain": {
          "x": [
           0,
           1
          ],
          "y": [
           0,
           1
          ]
         },
         "style": "open-street-map",
         "zoom": 5.5
        },
        "template": {
         "data": {
          "bar": [
           {
            "error_x": {
             "color": "#2a3f5f"
            },
            "error_y": {
             "color": "#2a3f5f"
            },
            "marker": {
             "line": {
              "color": "#E5ECF6",
              "width": 0.5
             }
            },
            "type": "bar"
           }
          ],
          "barpolar": [
           {
            "marker": {
             "line": {
              "color": "#E5ECF6",
              "width": 0.5
             }
            },
            "type": "barpolar"
           }
          ],
          "carpet": [
           {
            "aaxis": {
             "endlinecolor": "#2a3f5f",
             "gridcolor": "white",
             "linecolor": "white",
             "minorgridcolor": "white",
             "startlinecolor": "#2a3f5f"
            },
            "baxis": {
             "endlinecolor": "#2a3f5f",
             "gridcolor": "white",
             "linecolor": "white",
             "minorgridcolor": "white",
             "startlinecolor": "#2a3f5f"
            },
            "type": "carpet"
           }
          ],
          "choropleth": [
           {
            "colorbar": {
             "outlinewidth": 0,
             "ticks": ""
            },
            "type": "choropleth"
           }
          ],
          "contour": [
           {
            "colorbar": {
             "outlinewidth": 0,
             "ticks": ""
            },
            "colorscale": [
             [
              0,
              "#0d0887"
             ],
             [
              0.1111111111111111,
              "#46039f"
             ],
             [
              0.2222222222222222,
              "#7201a8"
             ],
             [
              0.3333333333333333,
              "#9c179e"
             ],
             [
              0.4444444444444444,
              "#bd3786"
             ],
             [
              0.5555555555555556,
              "#d8576b"
             ],
             [
              0.6666666666666666,
              "#ed7953"
             ],
             [
              0.7777777777777778,
              "#fb9f3a"
             ],
             [
              0.8888888888888888,
              "#fdca26"
             ],
             [
              1,
              "#f0f921"
             ]
            ],
            "type": "contour"
           }
          ],
          "contourcarpet": [
           {
            "colorbar": {
             "outlinewidth": 0,
             "ticks": ""
            },
            "type": "contourcarpet"
           }
          ],
          "heatmap": [
           {
            "colorbar": {
             "outlinewidth": 0,
             "ticks": ""
            },
            "colorscale": [
             [
              0,
              "#0d0887"
             ],
             [
              0.1111111111111111,
              "#46039f"
             ],
             [
              0.2222222222222222,
              "#7201a8"
             ],
             [
              0.3333333333333333,
              "#9c179e"
             ],
             [
              0.4444444444444444,
              "#bd3786"
             ],
             [
              0.5555555555555556,
              "#d8576b"
             ],
             [
              0.6666666666666666,
              "#ed7953"
             ],
             [
              0.7777777777777778,
              "#fb9f3a"
             ],
             [
              0.8888888888888888,
              "#fdca26"
             ],
             [
              1,
              "#f0f921"
             ]
            ],
            "type": "heatmap"
           }
          ],
          "heatmapgl": [
           {
            "colorbar": {
             "outlinewidth": 0,
             "ticks": ""
            },
            "colorscale": [
             [
              0,
              "#0d0887"
             ],
             [
              0.1111111111111111,
              "#46039f"
             ],
             [
              0.2222222222222222,
              "#7201a8"
             ],
             [
              0.3333333333333333,
              "#9c179e"
             ],
             [
              0.4444444444444444,
              "#bd3786"
             ],
             [
              0.5555555555555556,
              "#d8576b"
             ],
             [
              0.6666666666666666,
              "#ed7953"
             ],
             [
              0.7777777777777778,
              "#fb9f3a"
             ],
             [
              0.8888888888888888,
              "#fdca26"
             ],
             [
              1,
              "#f0f921"
             ]
            ],
            "type": "heatmapgl"
           }
          ],
          "histogram": [
           {
            "marker": {
             "colorbar": {
              "outlinewidth": 0,
              "ticks": ""
             }
            },
            "type": "histogram"
           }
          ],
          "histogram2d": [
           {
            "colorbar": {
             "outlinewidth": 0,
             "ticks": ""
            },
            "colorscale": [
             [
              0,
              "#0d0887"
             ],
             [
              0.1111111111111111,
              "#46039f"
             ],
             [
              0.2222222222222222,
              "#7201a8"
             ],
             [
              0.3333333333333333,
              "#9c179e"
             ],
             [
              0.4444444444444444,
              "#bd3786"
             ],
             [
              0.5555555555555556,
              "#d8576b"
             ],
             [
              0.6666666666666666,
              "#ed7953"
             ],
             [
              0.7777777777777778,
              "#fb9f3a"
             ],
             [
              0.8888888888888888,
              "#fdca26"
             ],
             [
              1,
              "#f0f921"
             ]
            ],
            "type": "histogram2d"
           }
          ],
          "histogram2dcontour": [
           {
            "colorbar": {
             "outlinewidth": 0,
             "ticks": ""
            },
            "colorscale": [
             [
              0,
              "#0d0887"
             ],
             [
              0.1111111111111111,
              "#46039f"
             ],
             [
              0.2222222222222222,
              "#7201a8"
             ],
             [
              0.3333333333333333,
              "#9c179e"
             ],
             [
              0.4444444444444444,
              "#bd3786"
             ],
             [
              0.5555555555555556,
              "#d8576b"
             ],
             [
              0.6666666666666666,
              "#ed7953"
             ],
             [
              0.7777777777777778,
              "#fb9f3a"
             ],
             [
              0.8888888888888888,
              "#fdca26"
             ],
             [
              1,
              "#f0f921"
             ]
            ],
            "type": "histogram2dcontour"
           }
          ],
          "mesh3d": [
           {
            "colorbar": {
             "outlinewidth": 0,
             "ticks": ""
            },
            "type": "mesh3d"
           }
          ],
          "parcoords": [
           {
            "line": {
             "colorbar": {
              "outlinewidth": 0,
              "ticks": ""
             }
            },
            "type": "parcoords"
           }
          ],
          "pie": [
           {
            "automargin": true,
            "type": "pie"
           }
          ],
          "scatter": [
           {
            "marker": {
             "colorbar": {
              "outlinewidth": 0,
              "ticks": ""
             }
            },
            "type": "scatter"
           }
          ],
          "scatter3d": [
           {
            "line": {
             "colorbar": {
              "outlinewidth": 0,
              "ticks": ""
             }
            },
            "marker": {
             "colorbar": {
              "outlinewidth": 0,
              "ticks": ""
             }
            },
            "type": "scatter3d"
           }
          ],
          "scattercarpet": [
           {
            "marker": {
             "colorbar": {
              "outlinewidth": 0,
              "ticks": ""
             }
            },
            "type": "scattercarpet"
           }
          ],
          "scattergeo": [
           {
            "marker": {
             "colorbar": {
              "outlinewidth": 0,
              "ticks": ""
             }
            },
            "type": "scattergeo"
           }
          ],
          "scattergl": [
           {
            "marker": {
             "colorbar": {
              "outlinewidth": 0,
              "ticks": ""
             }
            },
            "type": "scattergl"
           }
          ],
          "scattermapbox": [
           {
            "marker": {
             "colorbar": {
              "outlinewidth": 0,
              "ticks": ""
             }
            },
            "type": "scattermapbox"
           }
          ],
          "scatterpolar": [
           {
            "marker": {
             "colorbar": {
              "outlinewidth": 0,
              "ticks": ""
             }
            },
            "type": "scatterpolar"
           }
          ],
          "scatterpolargl": [
           {
            "marker": {
             "colorbar": {
              "outlinewidth": 0,
              "ticks": ""
             }
            },
            "type": "scatterpolargl"
           }
          ],
          "scatterternary": [
           {
            "marker": {
             "colorbar": {
              "outlinewidth": 0,
              "ticks": ""
             }
            },
            "type": "scatterternary"
           }
          ],
          "surface": [
           {
            "colorbar": {
             "outlinewidth": 0,
             "ticks": ""
            },
            "colorscale": [
             [
              0,
              "#0d0887"
             ],
             [
              0.1111111111111111,
              "#46039f"
             ],
             [
              0.2222222222222222,
              "#7201a8"
             ],
             [
              0.3333333333333333,
              "#9c179e"
             ],
             [
              0.4444444444444444,
              "#bd3786"
             ],
             [
              0.5555555555555556,
              "#d8576b"
             ],
             [
              0.6666666666666666,
              "#ed7953"
             ],
             [
              0.7777777777777778,
              "#fb9f3a"
             ],
             [
              0.8888888888888888,
              "#fdca26"
             ],
             [
              1,
              "#f0f921"
             ]
            ],
            "type": "surface"
           }
          ],
          "table": [
           {
            "cells": {
             "fill": {
              "color": "#EBF0F8"
             },
             "line": {
              "color": "white"
             }
            },
            "header": {
             "fill": {
              "color": "#C8D4E3"
             },
             "line": {
              "color": "white"
             }
            },
            "type": "table"
           }
          ]
         },
         "layout": {
          "annotationdefaults": {
           "arrowcolor": "#2a3f5f",
           "arrowhead": 0,
           "arrowwidth": 1
          },
          "coloraxis": {
           "colorbar": {
            "outlinewidth": 0,
            "ticks": ""
           }
          },
          "colorscale": {
           "diverging": [
            [
             0,
             "#8e0152"
            ],
            [
             0.1,
             "#c51b7d"
            ],
            [
             0.2,
             "#de77ae"
            ],
            [
             0.3,
             "#f1b6da"
            ],
            [
             0.4,
             "#fde0ef"
            ],
            [
             0.5,
             "#f7f7f7"
            ],
            [
             0.6,
             "#e6f5d0"
            ],
            [
             0.7,
             "#b8e186"
            ],
            [
             0.8,
             "#7fbc41"
            ],
            [
             0.9,
             "#4d9221"
            ],
            [
             1,
             "#276419"
            ]
           ],
           "sequential": [
            [
             0,
             "#0d0887"
            ],
            [
             0.1111111111111111,
             "#46039f"
            ],
            [
             0.2222222222222222,
             "#7201a8"
            ],
            [
             0.3333333333333333,
             "#9c179e"
            ],
            [
             0.4444444444444444,
             "#bd3786"
            ],
            [
             0.5555555555555556,
             "#d8576b"
            ],
            [
             0.6666666666666666,
             "#ed7953"
            ],
            [
             0.7777777777777778,
             "#fb9f3a"
            ],
            [
             0.8888888888888888,
             "#fdca26"
            ],
            [
             1,
             "#f0f921"
            ]
           ],
           "sequentialminus": [
            [
             0,
             "#0d0887"
            ],
            [
             0.1111111111111111,
             "#46039f"
            ],
            [
             0.2222222222222222,
             "#7201a8"
            ],
            [
             0.3333333333333333,
             "#9c179e"
            ],
            [
             0.4444444444444444,
             "#bd3786"
            ],
            [
             0.5555555555555556,
             "#d8576b"
            ],
            [
             0.6666666666666666,
             "#ed7953"
            ],
            [
             0.7777777777777778,
             "#fb9f3a"
            ],
            [
             0.8888888888888888,
             "#fdca26"
            ],
            [
             1,
             "#f0f921"
            ]
           ]
          },
          "colorway": [
           "#636efa",
           "#EF553B",
           "#00cc96",
           "#ab63fa",
           "#FFA15A",
           "#19d3f3",
           "#FF6692",
           "#B6E880",
           "#FF97FF",
           "#FECB52"
          ],
          "font": {
           "color": "#2a3f5f"
          },
          "geo": {
           "bgcolor": "white",
           "lakecolor": "white",
           "landcolor": "#E5ECF6",
           "showlakes": true,
           "showland": true,
           "subunitcolor": "white"
          },
          "hoverlabel": {
           "align": "left"
          },
          "hovermode": "closest",
          "mapbox": {
           "style": "light"
          },
          "paper_bgcolor": "white",
          "plot_bgcolor": "#E5ECF6",
          "polar": {
           "angularaxis": {
            "gridcolor": "white",
            "linecolor": "white",
            "ticks": ""
           },
           "bgcolor": "#E5ECF6",
           "radialaxis": {
            "gridcolor": "white",
            "linecolor": "white",
            "ticks": ""
           }
          },
          "scene": {
           "xaxis": {
            "backgroundcolor": "#E5ECF6",
            "gridcolor": "white",
            "gridwidth": 2,
            "linecolor": "white",
            "showbackground": true,
            "ticks": "",
            "zerolinecolor": "white"
           },
           "yaxis": {
            "backgroundcolor": "#E5ECF6",
            "gridcolor": "white",
            "gridwidth": 2,
            "linecolor": "white",
            "showbackground": true,
            "ticks": "",
            "zerolinecolor": "white"
           },
           "zaxis": {
            "backgroundcolor": "#E5ECF6",
            "gridcolor": "white",
            "gridwidth": 2,
            "linecolor": "white",
            "showbackground": true,
            "ticks": "",
            "zerolinecolor": "white"
           }
          },
          "shapedefaults": {
           "line": {
            "color": "#2a3f5f"
           }
          },
          "ternary": {
           "aaxis": {
            "gridcolor": "white",
            "linecolor": "white",
            "ticks": ""
           },
           "baxis": {
            "gridcolor": "white",
            "linecolor": "white",
            "ticks": ""
           },
           "bgcolor": "#E5ECF6",
           "caxis": {
            "gridcolor": "white",
            "linecolor": "white",
            "ticks": ""
           }
          },
          "title": {
           "x": 0.05
          },
          "xaxis": {
           "automargin": true,
           "gridcolor": "white",
           "linecolor": "white",
           "ticks": "",
           "title": {
            "standoff": 15
           },
           "zerolinecolor": "white",
           "zerolinewidth": 2
          },
          "yaxis": {
           "automargin": true,
           "gridcolor": "white",
           "linecolor": "white",
           "ticks": "",
           "title": {
            "standoff": 15
           },
           "zerolinecolor": "white",
           "zerolinewidth": 2
          }
         }
        },
        "title": {
         "text": "Best Hotels"
        }
       }
      }
     },
     "metadata": {},
     "output_type": "display_data"
    }
   ],
   "source": [
    "fig = px.scatter_mapbox(hotels_df, title=\"Best Hotels\",lat=\"lat\", lon=\"lon\", color=\"score\", zoom =5.5,size=\"score\",size_max=10,\n",
    "                        mapbox_style=\"open-street-map\", color_continuous_scale = 'Bluered', range_color = [8,10.0],hover_name=\"name\"\n",
    "                       )\n",
    "fig.show()\n"
   ]
  },
  {
   "cell_type": "code",
   "execution_count": 101,
   "metadata": {},
   "outputs": [],
   "source": [
    "df_cities=df_cities.iloc[0:5,]"
   ]
  },
  {
   "cell_type": "code",
   "execution_count": 110,
   "metadata": {},
   "outputs": [
    {
     "data": {
      "application/vnd.plotly.v1+json": {
       "config": {
        "plotlyServerURL": "https://plot.ly"
       },
       "data": [
        {
         "hovertemplate": "<b>%{hovertext}</b><br><br>T_Average=%{marker.color}<br>lat=%{lat}<br>lon=%{lon}<extra></extra>",
         "hovertext": [
          "Collioure",
          "Marseille",
          "Cassis",
          "Bayonne",
          "Bormes les Mimosas"
         ],
         "lat": [
          42.52505,
          43.2961743,
          43.2140359,
          43.4933379,
          43.1506968
         ],
         "legendgroup": "",
         "lon": [
          3.0831554,
          5.3699525,
          5.5396318,
          -1.475099,
          6.3419285
         ],
         "marker": {
          "color": [
           17.525749999999995,
           17.39275,
           17.225,
           16.868999999999993,
           16.836999999999996
          ],
          "coloraxis": "coloraxis",
          "size": [
           17.525749999999995,
           17.39275,
           17.225,
           16.868999999999993,
           16.836999999999996
          ],
          "sizemode": "area",
          "sizeref": 0.17525749999999995
         },
         "mode": "markers",
         "name": "",
         "showlegend": false,
         "subplot": "mapbox",
         "type": "scattermapbox"
        }
       ],
       "layout": {
        "coloraxis": {
         "cmax": 20,
         "cmin": 8,
         "colorbar": {
          "title": {
           "text": "T_Average"
          }
         },
         "colorscale": [
          [
           0,
           "rgb(255,247,236)"
          ],
          [
           0.125,
           "rgb(254,232,200)"
          ],
          [
           0.25,
           "rgb(253,212,158)"
          ],
          [
           0.375,
           "rgb(253,187,132)"
          ],
          [
           0.5,
           "rgb(252,141,89)"
          ],
          [
           0.625,
           "rgb(239,101,72)"
          ],
          [
           0.75,
           "rgb(215,48,31)"
          ],
          [
           0.875,
           "rgb(179,0,0)"
          ],
          [
           1,
           "rgb(127,0,0)"
          ]
         ]
        },
        "legend": {
         "itemsizing": "constant",
         "tracegroupgap": 0
        },
        "mapbox": {
         "center": {
          "lat": 43.135858979999995,
          "lon": 3.77191384
         },
         "domain": {
          "x": [
           0,
           1
          ],
          "y": [
           0,
           1
          ]
         },
         "style": "open-street-map",
         "zoom": 5.5
        },
        "template": {
         "data": {
          "bar": [
           {
            "error_x": {
             "color": "#2a3f5f"
            },
            "error_y": {
             "color": "#2a3f5f"
            },
            "marker": {
             "line": {
              "color": "#E5ECF6",
              "width": 0.5
             }
            },
            "type": "bar"
           }
          ],
          "barpolar": [
           {
            "marker": {
             "line": {
              "color": "#E5ECF6",
              "width": 0.5
             }
            },
            "type": "barpolar"
           }
          ],
          "carpet": [
           {
            "aaxis": {
             "endlinecolor": "#2a3f5f",
             "gridcolor": "white",
             "linecolor": "white",
             "minorgridcolor": "white",
             "startlinecolor": "#2a3f5f"
            },
            "baxis": {
             "endlinecolor": "#2a3f5f",
             "gridcolor": "white",
             "linecolor": "white",
             "minorgridcolor": "white",
             "startlinecolor": "#2a3f5f"
            },
            "type": "carpet"
           }
          ],
          "choropleth": [
           {
            "colorbar": {
             "outlinewidth": 0,
             "ticks": ""
            },
            "type": "choropleth"
           }
          ],
          "contour": [
           {
            "colorbar": {
             "outlinewidth": 0,
             "ticks": ""
            },
            "colorscale": [
             [
              0,
              "#0d0887"
             ],
             [
              0.1111111111111111,
              "#46039f"
             ],
             [
              0.2222222222222222,
              "#7201a8"
             ],
             [
              0.3333333333333333,
              "#9c179e"
             ],
             [
              0.4444444444444444,
              "#bd3786"
             ],
             [
              0.5555555555555556,
              "#d8576b"
             ],
             [
              0.6666666666666666,
              "#ed7953"
             ],
             [
              0.7777777777777778,
              "#fb9f3a"
             ],
             [
              0.8888888888888888,
              "#fdca26"
             ],
             [
              1,
              "#f0f921"
             ]
            ],
            "type": "contour"
           }
          ],
          "contourcarpet": [
           {
            "colorbar": {
             "outlinewidth": 0,
             "ticks": ""
            },
            "type": "contourcarpet"
           }
          ],
          "heatmap": [
           {
            "colorbar": {
             "outlinewidth": 0,
             "ticks": ""
            },
            "colorscale": [
             [
              0,
              "#0d0887"
             ],
             [
              0.1111111111111111,
              "#46039f"
             ],
             [
              0.2222222222222222,
              "#7201a8"
             ],
             [
              0.3333333333333333,
              "#9c179e"
             ],
             [
              0.4444444444444444,
              "#bd3786"
             ],
             [
              0.5555555555555556,
              "#d8576b"
             ],
             [
              0.6666666666666666,
              "#ed7953"
             ],
             [
              0.7777777777777778,
              "#fb9f3a"
             ],
             [
              0.8888888888888888,
              "#fdca26"
             ],
             [
              1,
              "#f0f921"
             ]
            ],
            "type": "heatmap"
           }
          ],
          "heatmapgl": [
           {
            "colorbar": {
             "outlinewidth": 0,
             "ticks": ""
            },
            "colorscale": [
             [
              0,
              "#0d0887"
             ],
             [
              0.1111111111111111,
              "#46039f"
             ],
             [
              0.2222222222222222,
              "#7201a8"
             ],
             [
              0.3333333333333333,
              "#9c179e"
             ],
             [
              0.4444444444444444,
              "#bd3786"
             ],
             [
              0.5555555555555556,
              "#d8576b"
             ],
             [
              0.6666666666666666,
              "#ed7953"
             ],
             [
              0.7777777777777778,
              "#fb9f3a"
             ],
             [
              0.8888888888888888,
              "#fdca26"
             ],
             [
              1,
              "#f0f921"
             ]
            ],
            "type": "heatmapgl"
           }
          ],
          "histogram": [
           {
            "marker": {
             "colorbar": {
              "outlinewidth": 0,
              "ticks": ""
             }
            },
            "type": "histogram"
           }
          ],
          "histogram2d": [
           {
            "colorbar": {
             "outlinewidth": 0,
             "ticks": ""
            },
            "colorscale": [
             [
              0,
              "#0d0887"
             ],
             [
              0.1111111111111111,
              "#46039f"
             ],
             [
              0.2222222222222222,
              "#7201a8"
             ],
             [
              0.3333333333333333,
              "#9c179e"
             ],
             [
              0.4444444444444444,
              "#bd3786"
             ],
             [
              0.5555555555555556,
              "#d8576b"
             ],
             [
              0.6666666666666666,
              "#ed7953"
             ],
             [
              0.7777777777777778,
              "#fb9f3a"
             ],
             [
              0.8888888888888888,
              "#fdca26"
             ],
             [
              1,
              "#f0f921"
             ]
            ],
            "type": "histogram2d"
           }
          ],
          "histogram2dcontour": [
           {
            "colorbar": {
             "outlinewidth": 0,
             "ticks": ""
            },
            "colorscale": [
             [
              0,
              "#0d0887"
             ],
             [
              0.1111111111111111,
              "#46039f"
             ],
             [
              0.2222222222222222,
              "#7201a8"
             ],
             [
              0.3333333333333333,
              "#9c179e"
             ],
             [
              0.4444444444444444,
              "#bd3786"
             ],
             [
              0.5555555555555556,
              "#d8576b"
             ],
             [
              0.6666666666666666,
              "#ed7953"
             ],
             [
              0.7777777777777778,
              "#fb9f3a"
             ],
             [
              0.8888888888888888,
              "#fdca26"
             ],
             [
              1,
              "#f0f921"
             ]
            ],
            "type": "histogram2dcontour"
           }
          ],
          "mesh3d": [
           {
            "colorbar": {
             "outlinewidth": 0,
             "ticks": ""
            },
            "type": "mesh3d"
           }
          ],
          "parcoords": [
           {
            "line": {
             "colorbar": {
              "outlinewidth": 0,
              "ticks": ""
             }
            },
            "type": "parcoords"
           }
          ],
          "pie": [
           {
            "automargin": true,
            "type": "pie"
           }
          ],
          "scatter": [
           {
            "marker": {
             "colorbar": {
              "outlinewidth": 0,
              "ticks": ""
             }
            },
            "type": "scatter"
           }
          ],
          "scatter3d": [
           {
            "line": {
             "colorbar": {
              "outlinewidth": 0,
              "ticks": ""
             }
            },
            "marker": {
             "colorbar": {
              "outlinewidth": 0,
              "ticks": ""
             }
            },
            "type": "scatter3d"
           }
          ],
          "scattercarpet": [
           {
            "marker": {
             "colorbar": {
              "outlinewidth": 0,
              "ticks": ""
             }
            },
            "type": "scattercarpet"
           }
          ],
          "scattergeo": [
           {
            "marker": {
             "colorbar": {
              "outlinewidth": 0,
              "ticks": ""
             }
            },
            "type": "scattergeo"
           }
          ],
          "scattergl": [
           {
            "marker": {
             "colorbar": {
              "outlinewidth": 0,
              "ticks": ""
             }
            },
            "type": "scattergl"
           }
          ],
          "scattermapbox": [
           {
            "marker": {
             "colorbar": {
              "outlinewidth": 0,
              "ticks": ""
             }
            },
            "type": "scattermapbox"
           }
          ],
          "scatterpolar": [
           {
            "marker": {
             "colorbar": {
              "outlinewidth": 0,
              "ticks": ""
             }
            },
            "type": "scatterpolar"
           }
          ],
          "scatterpolargl": [
           {
            "marker": {
             "colorbar": {
              "outlinewidth": 0,
              "ticks": ""
             }
            },
            "type": "scatterpolargl"
           }
          ],
          "scatterternary": [
           {
            "marker": {
             "colorbar": {
              "outlinewidth": 0,
              "ticks": ""
             }
            },
            "type": "scatterternary"
           }
          ],
          "surface": [
           {
            "colorbar": {
             "outlinewidth": 0,
             "ticks": ""
            },
            "colorscale": [
             [
              0,
              "#0d0887"
             ],
             [
              0.1111111111111111,
              "#46039f"
             ],
             [
              0.2222222222222222,
              "#7201a8"
             ],
             [
              0.3333333333333333,
              "#9c179e"
             ],
             [
              0.4444444444444444,
              "#bd3786"
             ],
             [
              0.5555555555555556,
              "#d8576b"
             ],
             [
              0.6666666666666666,
              "#ed7953"
             ],
             [
              0.7777777777777778,
              "#fb9f3a"
             ],
             [
              0.8888888888888888,
              "#fdca26"
             ],
             [
              1,
              "#f0f921"
             ]
            ],
            "type": "surface"
           }
          ],
          "table": [
           {
            "cells": {
             "fill": {
              "color": "#EBF0F8"
             },
             "line": {
              "color": "white"
             }
            },
            "header": {
             "fill": {
              "color": "#C8D4E3"
             },
             "line": {
              "color": "white"
             }
            },
            "type": "table"
           }
          ]
         },
         "layout": {
          "annotationdefaults": {
           "arrowcolor": "#2a3f5f",
           "arrowhead": 0,
           "arrowwidth": 1
          },
          "coloraxis": {
           "colorbar": {
            "outlinewidth": 0,
            "ticks": ""
           }
          },
          "colorscale": {
           "diverging": [
            [
             0,
             "#8e0152"
            ],
            [
             0.1,
             "#c51b7d"
            ],
            [
             0.2,
             "#de77ae"
            ],
            [
             0.3,
             "#f1b6da"
            ],
            [
             0.4,
             "#fde0ef"
            ],
            [
             0.5,
             "#f7f7f7"
            ],
            [
             0.6,
             "#e6f5d0"
            ],
            [
             0.7,
             "#b8e186"
            ],
            [
             0.8,
             "#7fbc41"
            ],
            [
             0.9,
             "#4d9221"
            ],
            [
             1,
             "#276419"
            ]
           ],
           "sequential": [
            [
             0,
             "#0d0887"
            ],
            [
             0.1111111111111111,
             "#46039f"
            ],
            [
             0.2222222222222222,
             "#7201a8"
            ],
            [
             0.3333333333333333,
             "#9c179e"
            ],
            [
             0.4444444444444444,
             "#bd3786"
            ],
            [
             0.5555555555555556,
             "#d8576b"
            ],
            [
             0.6666666666666666,
             "#ed7953"
            ],
            [
             0.7777777777777778,
             "#fb9f3a"
            ],
            [
             0.8888888888888888,
             "#fdca26"
            ],
            [
             1,
             "#f0f921"
            ]
           ],
           "sequentialminus": [
            [
             0,
             "#0d0887"
            ],
            [
             0.1111111111111111,
             "#46039f"
            ],
            [
             0.2222222222222222,
             "#7201a8"
            ],
            [
             0.3333333333333333,
             "#9c179e"
            ],
            [
             0.4444444444444444,
             "#bd3786"
            ],
            [
             0.5555555555555556,
             "#d8576b"
            ],
            [
             0.6666666666666666,
             "#ed7953"
            ],
            [
             0.7777777777777778,
             "#fb9f3a"
            ],
            [
             0.8888888888888888,
             "#fdca26"
            ],
            [
             1,
             "#f0f921"
            ]
           ]
          },
          "colorway": [
           "#636efa",
           "#EF553B",
           "#00cc96",
           "#ab63fa",
           "#FFA15A",
           "#19d3f3",
           "#FF6692",
           "#B6E880",
           "#FF97FF",
           "#FECB52"
          ],
          "font": {
           "color": "#2a3f5f"
          },
          "geo": {
           "bgcolor": "white",
           "lakecolor": "white",
           "landcolor": "#E5ECF6",
           "showlakes": true,
           "showland": true,
           "subunitcolor": "white"
          },
          "hoverlabel": {
           "align": "left"
          },
          "hovermode": "closest",
          "mapbox": {
           "style": "light"
          },
          "paper_bgcolor": "white",
          "plot_bgcolor": "#E5ECF6",
          "polar": {
           "angularaxis": {
            "gridcolor": "white",
            "linecolor": "white",
            "ticks": ""
           },
           "bgcolor": "#E5ECF6",
           "radialaxis": {
            "gridcolor": "white",
            "linecolor": "white",
            "ticks": ""
           }
          },
          "scene": {
           "xaxis": {
            "backgroundcolor": "#E5ECF6",
            "gridcolor": "white",
            "gridwidth": 2,
            "linecolor": "white",
            "showbackground": true,
            "ticks": "",
            "zerolinecolor": "white"
           },
           "yaxis": {
            "backgroundcolor": "#E5ECF6",
            "gridcolor": "white",
            "gridwidth": 2,
            "linecolor": "white",
            "showbackground": true,
            "ticks": "",
            "zerolinecolor": "white"
           },
           "zaxis": {
            "backgroundcolor": "#E5ECF6",
            "gridcolor": "white",
            "gridwidth": 2,
            "linecolor": "white",
            "showbackground": true,
            "ticks": "",
            "zerolinecolor": "white"
           }
          },
          "shapedefaults": {
           "line": {
            "color": "#2a3f5f"
           }
          },
          "ternary": {
           "aaxis": {
            "gridcolor": "white",
            "linecolor": "white",
            "ticks": ""
           },
           "baxis": {
            "gridcolor": "white",
            "linecolor": "white",
            "ticks": ""
           },
           "bgcolor": "#E5ECF6",
           "caxis": {
            "gridcolor": "white",
            "linecolor": "white",
            "ticks": ""
           }
          },
          "title": {
           "x": 0.05
          },
          "xaxis": {
           "automargin": true,
           "gridcolor": "white",
           "linecolor": "white",
           "ticks": "",
           "title": {
            "standoff": 15
           },
           "zerolinecolor": "white",
           "zerolinewidth": 2
          },
          "yaxis": {
           "automargin": true,
           "gridcolor": "white",
           "linecolor": "white",
           "ticks": "",
           "title": {
            "standoff": 15
           },
           "zerolinecolor": "white",
           "zerolinewidth": 2
          }
         }
        },
        "title": {
         "text": "Best Cities"
        }
       }
      }
     },
     "metadata": {},
     "output_type": "display_data"
    }
   ],
   "source": [
    "fig = px.scatter_mapbox(df_cities, lat=\"lat\", lon=\"lon\", color=\"T_Average\", zoom =5.5,size=\"T_Average\",size_max=10,\n",
    "                        mapbox_style=\"open-street-map\", color_continuous_scale = 'OrRd', range_color = [8,20.0],\n",
    "                       title=\"Best Cities\",hover_name=\"city\")\n",
    "fig.show()\n"
   ]
  },
  {
   "cell_type": "code",
   "execution_count": null,
   "metadata": {},
   "outputs": [],
   "source": []
  }
 ],
 "metadata": {
  "interpreter": {
   "hash": "8cb6cc137b3197e0b7ce4f00b228307119c3d08b3d424b35089c104a94505f33"
  },
  "kernelspec": {
   "display_name": "Python 3.7.10 64-bit ('base': conda)",
   "name": "python3"
  },
  "language_info": {
   "codemirror_mode": {
    "name": "ipython",
    "version": 3
   },
   "file_extension": ".py",
   "mimetype": "text/x-python",
   "name": "python",
   "nbconvert_exporter": "python",
   "pygments_lexer": "ipython3",
   "version": "3.7.10"
  }
 },
 "nbformat": 4,
 "nbformat_minor": 4
}
