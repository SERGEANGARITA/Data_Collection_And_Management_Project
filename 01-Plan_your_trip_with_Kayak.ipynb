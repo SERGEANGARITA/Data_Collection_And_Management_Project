{
 "cells": [
  {
   "cell_type": "code",
   "execution_count": 2,
   "metadata": {},
   "outputs": [],
   "source": [
    "import pandas as pd \n",
    "import numpy as np\n",
    "import requests \n",
    "import json\n",
    "from tqdm import tqdm\n",
    "from bs4 import BeautifulSoup\n",
    "import scrapy\n",
    "from scrapy.crawler import CrawlerProcess\n",
    "import plotly.express as px\n",
    "import logging\n",
    "import os "
   ]
  },
  {
   "cell_type": "code",
   "execution_count": 3,
   "metadata": {},
   "outputs": [],
   "source": [
    "top_35_cities=[\"Mont Saint Michel\", \"St Malo\", \"Bayeux\", \"Le Havre\", \"Rouen\", \"Paris\", \"Amiens\", \"Lille\", \"Strasbourg\",\n",
    "\"Chateau du Haut Koenigsbourg\",\"Colmar\", \"Eguisheim\", \"Besancon\", \"Dijon\",\"Annecy\", \"Grenoble\", \"Lyon\", \"Gorges du Verdon\",\n",
    "\"Bormes les Mimosas\", \"Cassis\", \"Marseille\", \"Aix en Provence\", \"Avignon\", \"Uzes\", \"Nimes\", \"Aigues Mortes\",\n",
    "\"Saintes Maries de la mer\", \"Collioure\", \"Carcassonne\", \"Ariege\", \"Toulouse\", \"Montauban\", \"Biarritz\", \"Bayonne\",\n",
    "\"La Rochelle\"]"
   ]
  },
  {
   "cell_type": "code",
   "execution_count": 4,
   "metadata": {},
   "outputs": [
    {
     "name": "stderr",
     "output_type": "stream",
     "text": [
      "100%|██████████| 35/35 [00:17<00:00,  2.03it/s]\n"
     ]
    }
   ],
   "source": [
    "df= pd.DataFrame()\n",
    "\n",
    "for city in tqdm(top_35_cities):\n",
    "    url=\"https://nominatim.openstreetmap.org/search?q=\"+city+\"&format=json&countrycodes=fr&limit=1\"\n",
    "    result=requests.get(url)\n",
    "    dict=result.json()[0]\n",
    "    dict[\"city\"]=city\n",
    "    df=df.append(dict,ignore_index=True)"
   ]
  },
  {
   "cell_type": "code",
   "execution_count": 5,
   "metadata": {},
   "outputs": [
    {
     "data": {
      "text/plain": [
       "place_id        float64\n",
       "licence          object\n",
       "osm_type         object\n",
       "osm_id          float64\n",
       "boundingbox      object\n",
       "lat              object\n",
       "lon              object\n",
       "display_name     object\n",
       "class            object\n",
       "type             object\n",
       "importance      float64\n",
       "icon             object\n",
       "city             object\n",
       "dtype: object"
      ]
     },
     "execution_count": 5,
     "metadata": {},
     "output_type": "execute_result"
    }
   ],
   "source": [
    "df.dtypes"
   ]
  },
  {
   "cell_type": "code",
   "execution_count": 6,
   "metadata": {},
   "outputs": [
    {
     "data": {
      "text/html": [
       "<div>\n",
       "<style scoped>\n",
       "    .dataframe tbody tr th:only-of-type {\n",
       "        vertical-align: middle;\n",
       "    }\n",
       "\n",
       "    .dataframe tbody tr th {\n",
       "        vertical-align: top;\n",
       "    }\n",
       "\n",
       "    .dataframe thead th {\n",
       "        text-align: right;\n",
       "    }\n",
       "</style>\n",
       "<table border=\"1\" class=\"dataframe\">\n",
       "  <thead>\n",
       "    <tr style=\"text-align: right;\">\n",
       "      <th></th>\n",
       "      <th>place_id</th>\n",
       "      <th>licence</th>\n",
       "      <th>osm_type</th>\n",
       "      <th>osm_id</th>\n",
       "      <th>boundingbox</th>\n",
       "      <th>lat</th>\n",
       "      <th>lon</th>\n",
       "      <th>display_name</th>\n",
       "      <th>class</th>\n",
       "      <th>type</th>\n",
       "      <th>importance</th>\n",
       "      <th>icon</th>\n",
       "      <th>city</th>\n",
       "    </tr>\n",
       "  </thead>\n",
       "  <tbody>\n",
       "    <tr>\n",
       "      <th>0</th>\n",
       "      <td>258697296.0</td>\n",
       "      <td>Data © OpenStreetMap contributors, ODbL 1.0. h...</td>\n",
       "      <td>relation</td>\n",
       "      <td>376823.0</td>\n",
       "      <td>[48.6119741, 48.637031, -1.5495487, -1.5094805]</td>\n",
       "      <td>48.6355232</td>\n",
       "      <td>-1.5102571</td>\n",
       "      <td>Le Mont-Saint-Michel, Avranches, Manche, Norma...</td>\n",
       "      <td>boundary</td>\n",
       "      <td>administrative</td>\n",
       "      <td>0.851274</td>\n",
       "      <td>https://nominatim.openstreetmap.org/ui/mapicon...</td>\n",
       "      <td>Mont Saint Michel</td>\n",
       "    </tr>\n",
       "    <tr>\n",
       "      <th>1</th>\n",
       "      <td>257985771.0</td>\n",
       "      <td>Data © OpenStreetMap contributors, ODbL 1.0. h...</td>\n",
       "      <td>relation</td>\n",
       "      <td>905534.0</td>\n",
       "      <td>[48.5979853, 48.6949736, -2.0768518, -1.9367259]</td>\n",
       "      <td>48.649518</td>\n",
       "      <td>-2.0260409</td>\n",
       "      <td>Saint-Malo, Ille-et-Vilaine, Bretagne, France ...</td>\n",
       "      <td>boundary</td>\n",
       "      <td>administrative</td>\n",
       "      <td>0.676467</td>\n",
       "      <td>https://nominatim.openstreetmap.org/ui/mapicon...</td>\n",
       "      <td>St Malo</td>\n",
       "    </tr>\n",
       "    <tr>\n",
       "      <th>2</th>\n",
       "      <td>257654882.0</td>\n",
       "      <td>Data © OpenStreetMap contributors, ODbL 1.0. h...</td>\n",
       "      <td>relation</td>\n",
       "      <td>145776.0</td>\n",
       "      <td>[49.2608124, 49.2934736, -0.7275671, -0.6757378]</td>\n",
       "      <td>49.2764624</td>\n",
       "      <td>-0.7024738</td>\n",
       "      <td>Bayeux, Calvados, Normandie, France métropolit...</td>\n",
       "      <td>boundary</td>\n",
       "      <td>administrative</td>\n",
       "      <td>0.682700</td>\n",
       "      <td>https://nominatim.openstreetmap.org/ui/mapicon...</td>\n",
       "      <td>Bayeux</td>\n",
       "    </tr>\n",
       "    <tr>\n",
       "      <th>3</th>\n",
       "      <td>256418097.0</td>\n",
       "      <td>Data © OpenStreetMap contributors, ODbL 1.0. h...</td>\n",
       "      <td>relation</td>\n",
       "      <td>104492.0</td>\n",
       "      <td>[49.4516697, 49.5401463, 0.0667992, 0.1955556]</td>\n",
       "      <td>49.4938975</td>\n",
       "      <td>0.1079732</td>\n",
       "      <td>Le Havre, Seine-Maritime, Normandie, France mé...</td>\n",
       "      <td>boundary</td>\n",
       "      <td>administrative</td>\n",
       "      <td>0.822333</td>\n",
       "      <td>https://nominatim.openstreetmap.org/ui/mapicon...</td>\n",
       "      <td>Le Havre</td>\n",
       "    </tr>\n",
       "    <tr>\n",
       "      <th>4</th>\n",
       "      <td>135340.0</td>\n",
       "      <td>Data © OpenStreetMap contributors, ODbL 1.0. h...</td>\n",
       "      <td>node</td>\n",
       "      <td>26686587.0</td>\n",
       "      <td>[49.2804591, 49.6004591, 0.9339658, 1.2539658]</td>\n",
       "      <td>49.4404591</td>\n",
       "      <td>1.0939658</td>\n",
       "      <td>Rouen, Seine-Maritime, Normandie, France métro...</td>\n",
       "      <td>place</td>\n",
       "      <td>city</td>\n",
       "      <td>0.750073</td>\n",
       "      <td>https://nominatim.openstreetmap.org/ui/mapicon...</td>\n",
       "      <td>Rouen</td>\n",
       "    </tr>\n",
       "  </tbody>\n",
       "</table>\n",
       "</div>"
      ],
      "text/plain": [
       "      place_id                                            licence  osm_type  \\\n",
       "0  258697296.0  Data © OpenStreetMap contributors, ODbL 1.0. h...  relation   \n",
       "1  257985771.0  Data © OpenStreetMap contributors, ODbL 1.0. h...  relation   \n",
       "2  257654882.0  Data © OpenStreetMap contributors, ODbL 1.0. h...  relation   \n",
       "3  256418097.0  Data © OpenStreetMap contributors, ODbL 1.0. h...  relation   \n",
       "4     135340.0  Data © OpenStreetMap contributors, ODbL 1.0. h...      node   \n",
       "\n",
       "       osm_id                                       boundingbox         lat  \\\n",
       "0    376823.0   [48.6119741, 48.637031, -1.5495487, -1.5094805]  48.6355232   \n",
       "1    905534.0  [48.5979853, 48.6949736, -2.0768518, -1.9367259]   48.649518   \n",
       "2    145776.0  [49.2608124, 49.2934736, -0.7275671, -0.6757378]  49.2764624   \n",
       "3    104492.0    [49.4516697, 49.5401463, 0.0667992, 0.1955556]  49.4938975   \n",
       "4  26686587.0    [49.2804591, 49.6004591, 0.9339658, 1.2539658]  49.4404591   \n",
       "\n",
       "          lon                                       display_name     class  \\\n",
       "0  -1.5102571  Le Mont-Saint-Michel, Avranches, Manche, Norma...  boundary   \n",
       "1  -2.0260409  Saint-Malo, Ille-et-Vilaine, Bretagne, France ...  boundary   \n",
       "2  -0.7024738  Bayeux, Calvados, Normandie, France métropolit...  boundary   \n",
       "3   0.1079732  Le Havre, Seine-Maritime, Normandie, France mé...  boundary   \n",
       "4   1.0939658  Rouen, Seine-Maritime, Normandie, France métro...     place   \n",
       "\n",
       "             type  importance  \\\n",
       "0  administrative    0.851274   \n",
       "1  administrative    0.676467   \n",
       "2  administrative    0.682700   \n",
       "3  administrative    0.822333   \n",
       "4            city    0.750073   \n",
       "\n",
       "                                                icon               city  \n",
       "0  https://nominatim.openstreetmap.org/ui/mapicon...  Mont Saint Michel  \n",
       "1  https://nominatim.openstreetmap.org/ui/mapicon...            St Malo  \n",
       "2  https://nominatim.openstreetmap.org/ui/mapicon...             Bayeux  \n",
       "3  https://nominatim.openstreetmap.org/ui/mapicon...           Le Havre  \n",
       "4  https://nominatim.openstreetmap.org/ui/mapicon...              Rouen  "
      ]
     },
     "execution_count": 6,
     "metadata": {},
     "output_type": "execute_result"
    }
   ],
   "source": [
    "df.head()"
   ]
  },
  {
   "cell_type": "code",
   "execution_count": 7,
   "metadata": {},
   "outputs": [
    {
     "name": "stderr",
     "output_type": "stream",
     "text": [
      "35it [00:09,  3.87it/s]\n"
     ]
    },
    {
     "data": {
      "text/html": [
       "<div>\n",
       "<style scoped>\n",
       "    .dataframe tbody tr th:only-of-type {\n",
       "        vertical-align: middle;\n",
       "    }\n",
       "\n",
       "    .dataframe tbody tr th {\n",
       "        vertical-align: top;\n",
       "    }\n",
       "\n",
       "    .dataframe thead th {\n",
       "        text-align: right;\n",
       "    }\n",
       "</style>\n",
       "<table border=\"1\" class=\"dataframe\">\n",
       "  <thead>\n",
       "    <tr style=\"text-align: right;\">\n",
       "      <th></th>\n",
       "      <th>t_min_0</th>\n",
       "      <th>t_max_0</th>\n",
       "      <th>t_day_0</th>\n",
       "      <th>t_eve_0</th>\n",
       "      <th>t_night_0</th>\n",
       "      <th>pressure_0</th>\n",
       "      <th>humid_0</th>\n",
       "      <th>dew_point_0</th>\n",
       "      <th>wind_speed_0</th>\n",
       "      <th>wind_deg_0</th>\n",
       "      <th>...</th>\n",
       "      <th>t_day_7</th>\n",
       "      <th>t_eve_7</th>\n",
       "      <th>t_night_7</th>\n",
       "      <th>pressure_7</th>\n",
       "      <th>humid_7</th>\n",
       "      <th>dew_point_7</th>\n",
       "      <th>wind_speed_7</th>\n",
       "      <th>wind_deg_7</th>\n",
       "      <th>wind_gust_7</th>\n",
       "      <th>clouds7</th>\n",
       "    </tr>\n",
       "  </thead>\n",
       "  <tbody>\n",
       "    <tr>\n",
       "      <th>0</th>\n",
       "      <td>10.55</td>\n",
       "      <td>18.43</td>\n",
       "      <td>17.01</td>\n",
       "      <td>14.22</td>\n",
       "      <td>12.82</td>\n",
       "      <td>1021.0</td>\n",
       "      <td>65.0</td>\n",
       "      <td>10.15</td>\n",
       "      <td>3.80</td>\n",
       "      <td>119.0</td>\n",
       "      <td>...</td>\n",
       "      <td>11.78</td>\n",
       "      <td>8.44</td>\n",
       "      <td>9.26</td>\n",
       "      <td>1025.0</td>\n",
       "      <td>53.0</td>\n",
       "      <td>2.42</td>\n",
       "      <td>6.38</td>\n",
       "      <td>158.0</td>\n",
       "      <td>12.34</td>\n",
       "      <td>52.0</td>\n",
       "    </tr>\n",
       "    <tr>\n",
       "      <th>1</th>\n",
       "      <td>12.28</td>\n",
       "      <td>17.71</td>\n",
       "      <td>16.20</td>\n",
       "      <td>14.45</td>\n",
       "      <td>13.37</td>\n",
       "      <td>1020.0</td>\n",
       "      <td>67.0</td>\n",
       "      <td>10.03</td>\n",
       "      <td>4.25</td>\n",
       "      <td>140.0</td>\n",
       "      <td>...</td>\n",
       "      <td>11.95</td>\n",
       "      <td>10.72</td>\n",
       "      <td>10.43</td>\n",
       "      <td>1024.0</td>\n",
       "      <td>53.0</td>\n",
       "      <td>2.74</td>\n",
       "      <td>8.08</td>\n",
       "      <td>168.0</td>\n",
       "      <td>12.85</td>\n",
       "      <td>65.0</td>\n",
       "    </tr>\n",
       "    <tr>\n",
       "      <th>2</th>\n",
       "      <td>10.01</td>\n",
       "      <td>18.23</td>\n",
       "      <td>16.73</td>\n",
       "      <td>14.07</td>\n",
       "      <td>12.39</td>\n",
       "      <td>1021.0</td>\n",
       "      <td>67.0</td>\n",
       "      <td>10.60</td>\n",
       "      <td>3.90</td>\n",
       "      <td>155.0</td>\n",
       "      <td>...</td>\n",
       "      <td>11.39</td>\n",
       "      <td>7.27</td>\n",
       "      <td>7.56</td>\n",
       "      <td>1025.0</td>\n",
       "      <td>52.0</td>\n",
       "      <td>1.88</td>\n",
       "      <td>5.55</td>\n",
       "      <td>162.0</td>\n",
       "      <td>12.51</td>\n",
       "      <td>32.0</td>\n",
       "    </tr>\n",
       "    <tr>\n",
       "      <th>3</th>\n",
       "      <td>12.11</td>\n",
       "      <td>16.68</td>\n",
       "      <td>15.02</td>\n",
       "      <td>14.44</td>\n",
       "      <td>13.54</td>\n",
       "      <td>1021.0</td>\n",
       "      <td>71.0</td>\n",
       "      <td>9.73</td>\n",
       "      <td>4.20</td>\n",
       "      <td>161.0</td>\n",
       "      <td>...</td>\n",
       "      <td>10.47</td>\n",
       "      <td>9.74</td>\n",
       "      <td>8.80</td>\n",
       "      <td>1025.0</td>\n",
       "      <td>51.0</td>\n",
       "      <td>0.80</td>\n",
       "      <td>7.03</td>\n",
       "      <td>157.0</td>\n",
       "      <td>10.83</td>\n",
       "      <td>29.0</td>\n",
       "    </tr>\n",
       "    <tr>\n",
       "      <th>4</th>\n",
       "      <td>10.22</td>\n",
       "      <td>17.00</td>\n",
       "      <td>14.73</td>\n",
       "      <td>12.56</td>\n",
       "      <td>11.29</td>\n",
       "      <td>1022.0</td>\n",
       "      <td>65.0</td>\n",
       "      <td>7.76</td>\n",
       "      <td>2.51</td>\n",
       "      <td>130.0</td>\n",
       "      <td>...</td>\n",
       "      <td>10.64</td>\n",
       "      <td>6.51</td>\n",
       "      <td>5.32</td>\n",
       "      <td>1026.0</td>\n",
       "      <td>54.0</td>\n",
       "      <td>1.45</td>\n",
       "      <td>3.21</td>\n",
       "      <td>150.0</td>\n",
       "      <td>7.72</td>\n",
       "      <td>48.0</td>\n",
       "    </tr>\n",
       "  </tbody>\n",
       "</table>\n",
       "<p>5 rows × 96 columns</p>\n",
       "</div>"
      ],
      "text/plain": [
       "   t_min_0  t_max_0  t_day_0  t_eve_0  t_night_0  pressure_0  humid_0  \\\n",
       "0    10.55    18.43    17.01    14.22      12.82      1021.0     65.0   \n",
       "1    12.28    17.71    16.20    14.45      13.37      1020.0     67.0   \n",
       "2    10.01    18.23    16.73    14.07      12.39      1021.0     67.0   \n",
       "3    12.11    16.68    15.02    14.44      13.54      1021.0     71.0   \n",
       "4    10.22    17.00    14.73    12.56      11.29      1022.0     65.0   \n",
       "\n",
       "   dew_point_0  wind_speed_0  wind_deg_0  ...  t_day_7  t_eve_7  t_night_7  \\\n",
       "0        10.15          3.80       119.0  ...    11.78     8.44       9.26   \n",
       "1        10.03          4.25       140.0  ...    11.95    10.72      10.43   \n",
       "2        10.60          3.90       155.0  ...    11.39     7.27       7.56   \n",
       "3         9.73          4.20       161.0  ...    10.47     9.74       8.80   \n",
       "4         7.76          2.51       130.0  ...    10.64     6.51       5.32   \n",
       "\n",
       "   pressure_7  humid_7  dew_point_7  wind_speed_7  wind_deg_7  wind_gust_7  \\\n",
       "0      1025.0     53.0         2.42          6.38       158.0        12.34   \n",
       "1      1024.0     53.0         2.74          8.08       168.0        12.85   \n",
       "2      1025.0     52.0         1.88          5.55       162.0        12.51   \n",
       "3      1025.0     51.0         0.80          7.03       157.0        10.83   \n",
       "4      1026.0     54.0         1.45          3.21       150.0         7.72   \n",
       "\n",
       "   clouds7  \n",
       "0     52.0  \n",
       "1     65.0  \n",
       "2     32.0  \n",
       "3     29.0  \n",
       "4     48.0  \n",
       "\n",
       "[5 rows x 96 columns]"
      ]
     },
     "execution_count": 7,
     "metadata": {},
     "output_type": "execute_result"
    }
   ],
   "source": [
    "df2= pd.DataFrame()\n",
    "\n",
    "for index, row in tqdm(df.iterrows()):\n",
    "    lat=row[\"lat\"]\n",
    "    lon=row[\"lon\"]\n",
    "    city=row[\"city\"]\n",
    "    url=\"https://api.openweathermap.org/data/2.5/onecall?lat=\"+lat+\"&lon=\"+lon+\"&exclude=current,minutely,hourly&units=metric&appid=b4a7f944eb178713c5d742788c44e014\"\n",
    "    result=requests.get(url)\n",
    "    dict_=result.json()\n",
    "    df3= pd.DataFrame()\n",
    "    \n",
    "    for i in range(0,8):\n",
    "        \n",
    "        number=str(i)\n",
    "        \n",
    "        t_min=dict_[\"daily\"][i][\"temp\"][\"min\"]\n",
    "        t_max=dict_[\"daily\"][i][\"temp\"][\"max\"]\n",
    "        t_day=dict_[\"daily\"][i][\"temp\"][\"day\"]\n",
    "        t_eve=dict_[\"daily\"][i][\"temp\"][\"eve\"]\n",
    "        t_night=dict_[\"daily\"][i][\"temp\"][\"night\"]\n",
    "        pressure=dict_[\"daily\"][i][\"pressure\"]\n",
    "        humid=dict_[\"daily\"][i][\"humidity\"]\n",
    "        dew_point=dict_[\"daily\"][i][\"dew_point\"]\n",
    "        wind_speed=dict_[\"daily\"][i][\"wind_speed\"]\n",
    "        wind_deg=dict_[\"daily\"][i][\"wind_deg\"]\n",
    "        wind_gust=dict_[\"daily\"][i][\"wind_gust\"]\n",
    "        clouds=dict_[\"daily\"][i][\"clouds\"]\n",
    "        \n",
    "        keys=[\"t_min_\"+number,\"t_max_\"+number,\"t_day_\"+number,\"t_eve_\"+number,\"t_night_\"+number,\n",
    "              \"pressure_\"+number,\"humid_\"+number,\"dew_point_\"+number,\"wind_speed_\"+number,\"wind_deg_\"+number,\n",
    "              \"wind_gust_\"+number,\"clouds\"+number]\n",
    "        values=[t_min,t_max,t_day,t_eve,t_night,pressure,humid,dew_point,wind_speed,wind_deg,wind_gust,clouds]\n",
    "        \n",
    "        #dictionary=dict(zip(keys, values))\n",
    "        #dictionary[\"city\"]=city\n",
    "        df_f = pd.DataFrame(values,index =keys)\n",
    "        frames = [df3, df_f]\n",
    "        df3=pd.concat(frames)\n",
    "    \n",
    "    df3=df3.T\n",
    "    df2=df2.append(df3, ignore_index=True)\n",
    "        \n",
    "\n",
    "df2.head()\n",
    "        "
   ]
  },
  {
   "cell_type": "code",
   "execution_count": 8,
   "metadata": {},
   "outputs": [
    {
     "data": {
      "text/html": [
       "<div>\n",
       "<style scoped>\n",
       "    .dataframe tbody tr th:only-of-type {\n",
       "        vertical-align: middle;\n",
       "    }\n",
       "\n",
       "    .dataframe tbody tr th {\n",
       "        vertical-align: top;\n",
       "    }\n",
       "\n",
       "    .dataframe thead th {\n",
       "        text-align: right;\n",
       "    }\n",
       "</style>\n",
       "<table border=\"1\" class=\"dataframe\">\n",
       "  <thead>\n",
       "    <tr style=\"text-align: right;\">\n",
       "      <th></th>\n",
       "      <th>place_id</th>\n",
       "      <th>licence</th>\n",
       "      <th>osm_type</th>\n",
       "      <th>osm_id</th>\n",
       "      <th>boundingbox</th>\n",
       "      <th>lat</th>\n",
       "      <th>lon</th>\n",
       "      <th>display_name</th>\n",
       "      <th>class</th>\n",
       "      <th>type</th>\n",
       "      <th>...</th>\n",
       "      <th>t_day_7</th>\n",
       "      <th>t_eve_7</th>\n",
       "      <th>t_night_7</th>\n",
       "      <th>pressure_7</th>\n",
       "      <th>humid_7</th>\n",
       "      <th>dew_point_7</th>\n",
       "      <th>wind_speed_7</th>\n",
       "      <th>wind_deg_7</th>\n",
       "      <th>wind_gust_7</th>\n",
       "      <th>clouds7</th>\n",
       "    </tr>\n",
       "  </thead>\n",
       "  <tbody>\n",
       "    <tr>\n",
       "      <th>0</th>\n",
       "      <td>258697296.0</td>\n",
       "      <td>Data © OpenStreetMap contributors, ODbL 1.0. h...</td>\n",
       "      <td>relation</td>\n",
       "      <td>376823.0</td>\n",
       "      <td>[48.6119741, 48.637031, -1.5495487, -1.5094805]</td>\n",
       "      <td>48.6355232</td>\n",
       "      <td>-1.5102571</td>\n",
       "      <td>Le Mont-Saint-Michel, Avranches, Manche, Norma...</td>\n",
       "      <td>boundary</td>\n",
       "      <td>administrative</td>\n",
       "      <td>...</td>\n",
       "      <td>11.78</td>\n",
       "      <td>8.44</td>\n",
       "      <td>9.26</td>\n",
       "      <td>1025.0</td>\n",
       "      <td>53.0</td>\n",
       "      <td>2.42</td>\n",
       "      <td>6.38</td>\n",
       "      <td>158.0</td>\n",
       "      <td>12.34</td>\n",
       "      <td>52.0</td>\n",
       "    </tr>\n",
       "    <tr>\n",
       "      <th>1</th>\n",
       "      <td>257985771.0</td>\n",
       "      <td>Data © OpenStreetMap contributors, ODbL 1.0. h...</td>\n",
       "      <td>relation</td>\n",
       "      <td>905534.0</td>\n",
       "      <td>[48.5979853, 48.6949736, -2.0768518, -1.9367259]</td>\n",
       "      <td>48.649518</td>\n",
       "      <td>-2.0260409</td>\n",
       "      <td>Saint-Malo, Ille-et-Vilaine, Bretagne, France ...</td>\n",
       "      <td>boundary</td>\n",
       "      <td>administrative</td>\n",
       "      <td>...</td>\n",
       "      <td>11.95</td>\n",
       "      <td>10.72</td>\n",
       "      <td>10.43</td>\n",
       "      <td>1024.0</td>\n",
       "      <td>53.0</td>\n",
       "      <td>2.74</td>\n",
       "      <td>8.08</td>\n",
       "      <td>168.0</td>\n",
       "      <td>12.85</td>\n",
       "      <td>65.0</td>\n",
       "    </tr>\n",
       "    <tr>\n",
       "      <th>2</th>\n",
       "      <td>257654882.0</td>\n",
       "      <td>Data © OpenStreetMap contributors, ODbL 1.0. h...</td>\n",
       "      <td>relation</td>\n",
       "      <td>145776.0</td>\n",
       "      <td>[49.2608124, 49.2934736, -0.7275671, -0.6757378]</td>\n",
       "      <td>49.2764624</td>\n",
       "      <td>-0.7024738</td>\n",
       "      <td>Bayeux, Calvados, Normandie, France métropolit...</td>\n",
       "      <td>boundary</td>\n",
       "      <td>administrative</td>\n",
       "      <td>...</td>\n",
       "      <td>11.39</td>\n",
       "      <td>7.27</td>\n",
       "      <td>7.56</td>\n",
       "      <td>1025.0</td>\n",
       "      <td>52.0</td>\n",
       "      <td>1.88</td>\n",
       "      <td>5.55</td>\n",
       "      <td>162.0</td>\n",
       "      <td>12.51</td>\n",
       "      <td>32.0</td>\n",
       "    </tr>\n",
       "    <tr>\n",
       "      <th>3</th>\n",
       "      <td>256418097.0</td>\n",
       "      <td>Data © OpenStreetMap contributors, ODbL 1.0. h...</td>\n",
       "      <td>relation</td>\n",
       "      <td>104492.0</td>\n",
       "      <td>[49.4516697, 49.5401463, 0.0667992, 0.1955556]</td>\n",
       "      <td>49.4938975</td>\n",
       "      <td>0.1079732</td>\n",
       "      <td>Le Havre, Seine-Maritime, Normandie, France mé...</td>\n",
       "      <td>boundary</td>\n",
       "      <td>administrative</td>\n",
       "      <td>...</td>\n",
       "      <td>10.47</td>\n",
       "      <td>9.74</td>\n",
       "      <td>8.80</td>\n",
       "      <td>1025.0</td>\n",
       "      <td>51.0</td>\n",
       "      <td>0.80</td>\n",
       "      <td>7.03</td>\n",
       "      <td>157.0</td>\n",
       "      <td>10.83</td>\n",
       "      <td>29.0</td>\n",
       "    </tr>\n",
       "    <tr>\n",
       "      <th>4</th>\n",
       "      <td>135340.0</td>\n",
       "      <td>Data © OpenStreetMap contributors, ODbL 1.0. h...</td>\n",
       "      <td>node</td>\n",
       "      <td>26686587.0</td>\n",
       "      <td>[49.2804591, 49.6004591, 0.9339658, 1.2539658]</td>\n",
       "      <td>49.4404591</td>\n",
       "      <td>1.0939658</td>\n",
       "      <td>Rouen, Seine-Maritime, Normandie, France métro...</td>\n",
       "      <td>place</td>\n",
       "      <td>city</td>\n",
       "      <td>...</td>\n",
       "      <td>10.64</td>\n",
       "      <td>6.51</td>\n",
       "      <td>5.32</td>\n",
       "      <td>1026.0</td>\n",
       "      <td>54.0</td>\n",
       "      <td>1.45</td>\n",
       "      <td>3.21</td>\n",
       "      <td>150.0</td>\n",
       "      <td>7.72</td>\n",
       "      <td>48.0</td>\n",
       "    </tr>\n",
       "  </tbody>\n",
       "</table>\n",
       "<p>5 rows × 109 columns</p>\n",
       "</div>"
      ],
      "text/plain": [
       "      place_id                                            licence  osm_type  \\\n",
       "0  258697296.0  Data © OpenStreetMap contributors, ODbL 1.0. h...  relation   \n",
       "1  257985771.0  Data © OpenStreetMap contributors, ODbL 1.0. h...  relation   \n",
       "2  257654882.0  Data © OpenStreetMap contributors, ODbL 1.0. h...  relation   \n",
       "3  256418097.0  Data © OpenStreetMap contributors, ODbL 1.0. h...  relation   \n",
       "4     135340.0  Data © OpenStreetMap contributors, ODbL 1.0. h...      node   \n",
       "\n",
       "       osm_id                                       boundingbox         lat  \\\n",
       "0    376823.0   [48.6119741, 48.637031, -1.5495487, -1.5094805]  48.6355232   \n",
       "1    905534.0  [48.5979853, 48.6949736, -2.0768518, -1.9367259]   48.649518   \n",
       "2    145776.0  [49.2608124, 49.2934736, -0.7275671, -0.6757378]  49.2764624   \n",
       "3    104492.0    [49.4516697, 49.5401463, 0.0667992, 0.1955556]  49.4938975   \n",
       "4  26686587.0    [49.2804591, 49.6004591, 0.9339658, 1.2539658]  49.4404591   \n",
       "\n",
       "          lon                                       display_name     class  \\\n",
       "0  -1.5102571  Le Mont-Saint-Michel, Avranches, Manche, Norma...  boundary   \n",
       "1  -2.0260409  Saint-Malo, Ille-et-Vilaine, Bretagne, France ...  boundary   \n",
       "2  -0.7024738  Bayeux, Calvados, Normandie, France métropolit...  boundary   \n",
       "3   0.1079732  Le Havre, Seine-Maritime, Normandie, France mé...  boundary   \n",
       "4   1.0939658  Rouen, Seine-Maritime, Normandie, France métro...     place   \n",
       "\n",
       "             type  ...  t_day_7 t_eve_7 t_night_7  pressure_7  humid_7  \\\n",
       "0  administrative  ...    11.78    8.44      9.26      1025.0     53.0   \n",
       "1  administrative  ...    11.95   10.72     10.43      1024.0     53.0   \n",
       "2  administrative  ...    11.39    7.27      7.56      1025.0     52.0   \n",
       "3  administrative  ...    10.47    9.74      8.80      1025.0     51.0   \n",
       "4            city  ...    10.64    6.51      5.32      1026.0     54.0   \n",
       "\n",
       "   dew_point_7  wind_speed_7  wind_deg_7  wind_gust_7  clouds7  \n",
       "0         2.42          6.38       158.0        12.34     52.0  \n",
       "1         2.74          8.08       168.0        12.85     65.0  \n",
       "2         1.88          5.55       162.0        12.51     32.0  \n",
       "3         0.80          7.03       157.0        10.83     29.0  \n",
       "4         1.45          3.21       150.0         7.72     48.0  \n",
       "\n",
       "[5 rows x 109 columns]"
      ]
     },
     "execution_count": 8,
     "metadata": {},
     "output_type": "execute_result"
    }
   ],
   "source": [
    "final_df=pd.concat([df, df2], axis=1)\n",
    "final_df.head()"
   ]
  },
  {
   "cell_type": "code",
   "execution_count": 9,
   "metadata": {},
   "outputs": [
    {
     "data": {
      "text/html": [
       "<div>\n",
       "<style scoped>\n",
       "    .dataframe tbody tr th:only-of-type {\n",
       "        vertical-align: middle;\n",
       "    }\n",
       "\n",
       "    .dataframe tbody tr th {\n",
       "        vertical-align: top;\n",
       "    }\n",
       "\n",
       "    .dataframe thead th {\n",
       "        text-align: right;\n",
       "    }\n",
       "</style>\n",
       "<table border=\"1\" class=\"dataframe\">\n",
       "  <thead>\n",
       "    <tr style=\"text-align: right;\">\n",
       "      <th></th>\n",
       "      <th>place_id</th>\n",
       "      <th>licence</th>\n",
       "      <th>osm_type</th>\n",
       "      <th>osm_id</th>\n",
       "      <th>boundingbox</th>\n",
       "      <th>lat</th>\n",
       "      <th>lon</th>\n",
       "      <th>display_name</th>\n",
       "      <th>class</th>\n",
       "      <th>type</th>\n",
       "      <th>...</th>\n",
       "      <th>t_eve_7</th>\n",
       "      <th>t_night_7</th>\n",
       "      <th>pressure_7</th>\n",
       "      <th>humid_7</th>\n",
       "      <th>dew_point_7</th>\n",
       "      <th>wind_speed_7</th>\n",
       "      <th>wind_deg_7</th>\n",
       "      <th>wind_gust_7</th>\n",
       "      <th>clouds7</th>\n",
       "      <th>T_Average</th>\n",
       "    </tr>\n",
       "  </thead>\n",
       "  <tbody>\n",
       "    <tr>\n",
       "      <th>0</th>\n",
       "      <td>258528870.0</td>\n",
       "      <td>Data © OpenStreetMap contributors, ODbL 1.0. h...</td>\n",
       "      <td>relation</td>\n",
       "      <td>18409.0</td>\n",
       "      <td>[42.4832453, 42.5341349, 3.0495074, 3.0994238]</td>\n",
       "      <td>42.525050</td>\n",
       "      <td>3.083155</td>\n",
       "      <td>Collioure, Céret, Pyrénées-Orientales, Occitan...</td>\n",
       "      <td>boundary</td>\n",
       "      <td>administrative</td>\n",
       "      <td>...</td>\n",
       "      <td>14.41</td>\n",
       "      <td>13.19</td>\n",
       "      <td>1020.0</td>\n",
       "      <td>47.0</td>\n",
       "      <td>6.01</td>\n",
       "      <td>10.26</td>\n",
       "      <td>330.0</td>\n",
       "      <td>16.16</td>\n",
       "      <td>1.0</td>\n",
       "      <td>17.52575</td>\n",
       "    </tr>\n",
       "    <tr>\n",
       "      <th>1</th>\n",
       "      <td>258706271.0</td>\n",
       "      <td>Data © OpenStreetMap contributors, ODbL 1.0. h...</td>\n",
       "      <td>relation</td>\n",
       "      <td>76469.0</td>\n",
       "      <td>[43.1696228, 43.3910329, 5.2286312, 5.5324758]</td>\n",
       "      <td>43.296174</td>\n",
       "      <td>5.369953</td>\n",
       "      <td>Marseille, Bouches-du-Rhône, Provence-Alpes-Cô...</td>\n",
       "      <td>boundary</td>\n",
       "      <td>administrative</td>\n",
       "      <td>...</td>\n",
       "      <td>12.88</td>\n",
       "      <td>12.47</td>\n",
       "      <td>1016.0</td>\n",
       "      <td>51.0</td>\n",
       "      <td>3.29</td>\n",
       "      <td>15.67</td>\n",
       "      <td>324.0</td>\n",
       "      <td>20.46</td>\n",
       "      <td>0.0</td>\n",
       "      <td>17.39275</td>\n",
       "    </tr>\n",
       "    <tr>\n",
       "      <th>2</th>\n",
       "      <td>258573465.0</td>\n",
       "      <td>Data © OpenStreetMap contributors, ODbL 1.0. h...</td>\n",
       "      <td>relation</td>\n",
       "      <td>76425.0</td>\n",
       "      <td>[43.1884732, 43.2487231, 5.5063193, 5.5945199]</td>\n",
       "      <td>43.214036</td>\n",
       "      <td>5.539632</td>\n",
       "      <td>Cassis, Marseille, Bouches-du-Rhône, Provence-...</td>\n",
       "      <td>boundary</td>\n",
       "      <td>administrative</td>\n",
       "      <td>...</td>\n",
       "      <td>13.02</td>\n",
       "      <td>12.73</td>\n",
       "      <td>1015.0</td>\n",
       "      <td>48.0</td>\n",
       "      <td>2.72</td>\n",
       "      <td>14.64</td>\n",
       "      <td>322.0</td>\n",
       "      <td>20.26</td>\n",
       "      <td>0.0</td>\n",
       "      <td>17.22500</td>\n",
       "    </tr>\n",
       "    <tr>\n",
       "      <th>3</th>\n",
       "      <td>258745823.0</td>\n",
       "      <td>Data © OpenStreetMap contributors, ODbL 1.0. h...</td>\n",
       "      <td>relation</td>\n",
       "      <td>166713.0</td>\n",
       "      <td>[43.4498733, 43.5188846, -1.5048438, -1.417261]</td>\n",
       "      <td>43.493338</td>\n",
       "      <td>-1.475099</td>\n",
       "      <td>Bayonne, Pyrénées-Atlantiques, Nouvelle-Aquita...</td>\n",
       "      <td>boundary</td>\n",
       "      <td>administrative</td>\n",
       "      <td>...</td>\n",
       "      <td>13.11</td>\n",
       "      <td>12.05</td>\n",
       "      <td>1023.0</td>\n",
       "      <td>70.0</td>\n",
       "      <td>10.45</td>\n",
       "      <td>1.77</td>\n",
       "      <td>307.0</td>\n",
       "      <td>3.38</td>\n",
       "      <td>65.0</td>\n",
       "      <td>16.86900</td>\n",
       "    </tr>\n",
       "    <tr>\n",
       "      <th>4</th>\n",
       "      <td>258573486.0</td>\n",
       "      <td>Data © OpenStreetMap contributors, ODbL 1.0. h...</td>\n",
       "      <td>relation</td>\n",
       "      <td>1118915.0</td>\n",
       "      <td>[43.0864271, 43.2278201, 6.2716142, 6.4514893]</td>\n",
       "      <td>43.150697</td>\n",
       "      <td>6.341928</td>\n",
       "      <td>Bormes-les-Mimosas, Toulon, Var, Provence-Alpe...</td>\n",
       "      <td>boundary</td>\n",
       "      <td>administrative</td>\n",
       "      <td>...</td>\n",
       "      <td>14.24</td>\n",
       "      <td>13.93</td>\n",
       "      <td>1012.0</td>\n",
       "      <td>34.0</td>\n",
       "      <td>1.00</td>\n",
       "      <td>14.01</td>\n",
       "      <td>307.0</td>\n",
       "      <td>20.27</td>\n",
       "      <td>0.0</td>\n",
       "      <td>16.83700</td>\n",
       "    </tr>\n",
       "  </tbody>\n",
       "</table>\n",
       "<p>5 rows × 110 columns</p>\n",
       "</div>"
      ],
      "text/plain": [
       "      place_id                                            licence  osm_type  \\\n",
       "0  258528870.0  Data © OpenStreetMap contributors, ODbL 1.0. h...  relation   \n",
       "1  258706271.0  Data © OpenStreetMap contributors, ODbL 1.0. h...  relation   \n",
       "2  258573465.0  Data © OpenStreetMap contributors, ODbL 1.0. h...  relation   \n",
       "3  258745823.0  Data © OpenStreetMap contributors, ODbL 1.0. h...  relation   \n",
       "4  258573486.0  Data © OpenStreetMap contributors, ODbL 1.0. h...  relation   \n",
       "\n",
       "      osm_id                                      boundingbox        lat  \\\n",
       "0    18409.0   [42.4832453, 42.5341349, 3.0495074, 3.0994238]  42.525050   \n",
       "1    76469.0   [43.1696228, 43.3910329, 5.2286312, 5.5324758]  43.296174   \n",
       "2    76425.0   [43.1884732, 43.2487231, 5.5063193, 5.5945199]  43.214036   \n",
       "3   166713.0  [43.4498733, 43.5188846, -1.5048438, -1.417261]  43.493338   \n",
       "4  1118915.0   [43.0864271, 43.2278201, 6.2716142, 6.4514893]  43.150697   \n",
       "\n",
       "        lon                                       display_name     class  \\\n",
       "0  3.083155  Collioure, Céret, Pyrénées-Orientales, Occitan...  boundary   \n",
       "1  5.369953  Marseille, Bouches-du-Rhône, Provence-Alpes-Cô...  boundary   \n",
       "2  5.539632  Cassis, Marseille, Bouches-du-Rhône, Provence-...  boundary   \n",
       "3 -1.475099  Bayonne, Pyrénées-Atlantiques, Nouvelle-Aquita...  boundary   \n",
       "4  6.341928  Bormes-les-Mimosas, Toulon, Var, Provence-Alpe...  boundary   \n",
       "\n",
       "             type  ...  t_eve_7 t_night_7 pressure_7  humid_7  dew_point_7  \\\n",
       "0  administrative  ...    14.41     13.19     1020.0     47.0         6.01   \n",
       "1  administrative  ...    12.88     12.47     1016.0     51.0         3.29   \n",
       "2  administrative  ...    13.02     12.73     1015.0     48.0         2.72   \n",
       "3  administrative  ...    13.11     12.05     1023.0     70.0        10.45   \n",
       "4  administrative  ...    14.24     13.93     1012.0     34.0         1.00   \n",
       "\n",
       "   wind_speed_7  wind_deg_7  wind_gust_7  clouds7  T_Average  \n",
       "0         10.26       330.0        16.16      1.0   17.52575  \n",
       "1         15.67       324.0        20.46      0.0   17.39275  \n",
       "2         14.64       322.0        20.26      0.0   17.22500  \n",
       "3          1.77       307.0         3.38     65.0   16.86900  \n",
       "4         14.01       307.0        20.27      0.0   16.83700  \n",
       "\n",
       "[5 rows x 110 columns]"
      ]
     },
     "execution_count": 9,
     "metadata": {},
     "output_type": "execute_result"
    }
   ],
   "source": [
    "final_df['T_Average'] = final_df[['t_min_0', 't_max_0', 't_day_0', 't_eve_0', 't_night_0',\n",
    "                            't_min_1', 't_max_1', 't_day_1', 't_eve_1', 't_night_1',\n",
    "                           't_min_2', 't_max_2', 't_day_2', 't_eve_2', 't_night_2',\n",
    "                            't_min_3', 't_max_3', 't_day_3', 't_eve_3', 't_night_3',\n",
    "                            't_min_4', 't_max_4', 't_day_4', 't_eve_4', 't_night_4',\n",
    "                            't_min_5', 't_max_5', 't_day_5', 't_eve_5', 't_night_5',\n",
    "                            't_min_6', 't_max_6', 't_day_6', 't_eve_6', 't_night_6',\n",
    "                            't_min_7', 't_max_7', 't_day_7', 't_eve_7', 't_night_7',                           \n",
    "                           ]].mean(axis=1)\n",
    "\n",
    "final_df['T_Average'] = final_df['T_Average'].astype(float)\n",
    "final_df['lat'] = final_df['lat'].astype(float)\n",
    "final_df['lon'] = final_df['lon'].astype(float)\n",
    "\n",
    "final_df=final_df.sort_values(by='T_Average', ascending=False).reset_index(drop=True)\n",
    "final_df.head()"
   ]
  },
  {
   "cell_type": "code",
   "execution_count": 10,
   "metadata": {},
   "outputs": [],
   "source": [
    "final_df.to_excel(\"cities.xlsx\")\n",
    "final_df.to_csv(\"cities.csv\")"
   ]
  },
  {
   "cell_type": "code",
   "execution_count": 11,
   "metadata": {},
   "outputs": [
    {
     "data": {
      "application/vnd.plotly.v1+json": {
       "config": {
        "plotlyServerURL": "https://plot.ly"
       },
       "data": [
        {
         "hovertemplate": "T_Average=%{marker.color}<br>lat=%{lat}<br>lon=%{lon}<extra></extra>",
         "lat": [
          42.52505,
          43.2961743,
          43.2140359,
          43.4933379,
          43.1506968,
          43.4522771,
          43.471143749999996,
          43.5658225,
          43.6044622,
          43.2130358,
          43.5298424,
          43.8374249,
          44.0175835,
          43.9492493,
          46.1591126,
          44.0121279,
          48.649518,
          48.8566969,
          49.4938975,
          48.6355232,
          49.2764624,
          45.7578137,
          45.1875602,
          49.4404591,
          50.6365654,
          49.8941708,
          48.0447968,
          48.0777517,
          43.7497,
          45.8992348,
          48.584614,
          47.3215806,
          47.2380222,
          42.9455368,
          48.249489800000006
         ],
         "legendgroup": "",
         "lon": [
          3.0831554,
          5.3699525,
          5.5396318,
          -1.475099,
          6.3419285,
          4.4287172,
          -1.552726590666314,
          4.1912837,
          1.4442469,
          2.3491069,
          5.4474738,
          4.3600687,
          1.3549991,
          4.8059012,
          -1.1520434,
          4.4196718,
          -2.0260409,
          2.3514616,
          0.1079732,
          -1.5102571,
          -0.7024738,
          4.8320114,
          5.7357819,
          1.0939658,
          3.0635282,
          2.2956951,
          7.3079618,
          7.3579641,
          6.32859,
          6.1288847,
          7.7507127,
          5.0414701,
          6.0243622,
          1.4065544156065486,
          7.34429620253195
         ],
         "marker": {
          "color": [
           17.525749999999995,
           17.39275,
           17.225,
           16.868999999999993,
           16.836999999999996,
           16.704,
           16.600749999999998,
           16.590999999999998,
           16.131750000000004,
           15.982999999999999,
           15.853,
           15.780249999999999,
           15.664500000000004,
           15.649000000000001,
           15.400999999999996,
           14.738499999999998,
           14.376500000000002,
           14.365250000000003,
           14.001999999999999,
           13.617250000000002,
           13.424499999999998,
           13.393499999999998,
           13.338749999999996,
           12.872499999999997,
           12.593,
           12.483250000000002,
           11.2575,
           11.15675,
           11.033750000000003,
           10.99925,
           10.976249999999999,
           10.774249999999999,
           10.520250000000003,
           10.268250000000002,
           8.059249999999999
          ],
          "coloraxis": "coloraxis",
          "size": [
           17.525749999999995,
           17.39275,
           17.225,
           16.868999999999993,
           16.836999999999996,
           16.704,
           16.600749999999998,
           16.590999999999998,
           16.131750000000004,
           15.982999999999999,
           15.853,
           15.780249999999999,
           15.664500000000004,
           15.649000000000001,
           15.400999999999996,
           14.738499999999998,
           14.376500000000002,
           14.365250000000003,
           14.001999999999999,
           13.617250000000002,
           13.424499999999998,
           13.393499999999998,
           13.338749999999996,
           12.872499999999997,
           12.593,
           12.483250000000002,
           11.2575,
           11.15675,
           11.033750000000003,
           10.99925,
           10.976249999999999,
           10.774249999999999,
           10.520250000000003,
           10.268250000000002,
           8.059249999999999
          ],
          "sizemode": "area",
          "sizeref": 0.17525749999999995
         },
         "mode": "markers",
         "name": "",
         "showlegend": false,
         "subplot": "mapbox",
         "type": "scattermapbox"
        }
       ],
       "layout": {
        "coloraxis": {
         "cmax": 20,
         "cmin": 8,
         "colorbar": {
          "title": {
           "text": "T_Average"
          }
         },
         "colorscale": [
          [
           0,
           "rgb(0,0,255)"
          ],
          [
           1,
           "rgb(255,0,0)"
          ]
         ]
        },
        "legend": {
         "itemsizing": "constant",
         "tracegroupgap": 0
        },
        "mapbox": {
         "center": {
          "lat": 45.84087916428572,
          "lon": 3.3968202893563486
         },
         "domain": {
          "x": [
           0,
           1
          ],
          "y": [
           0,
           1
          ]
         },
         "style": "open-street-map",
         "zoom": 4
        },
        "margin": {
         "t": 60
        },
        "template": {
         "data": {
          "bar": [
           {
            "error_x": {
             "color": "#2a3f5f"
            },
            "error_y": {
             "color": "#2a3f5f"
            },
            "marker": {
             "line": {
              "color": "#E5ECF6",
              "width": 0.5
             }
            },
            "type": "bar"
           }
          ],
          "barpolar": [
           {
            "marker": {
             "line": {
              "color": "#E5ECF6",
              "width": 0.5
             }
            },
            "type": "barpolar"
           }
          ],
          "carpet": [
           {
            "aaxis": {
             "endlinecolor": "#2a3f5f",
             "gridcolor": "white",
             "linecolor": "white",
             "minorgridcolor": "white",
             "startlinecolor": "#2a3f5f"
            },
            "baxis": {
             "endlinecolor": "#2a3f5f",
             "gridcolor": "white",
             "linecolor": "white",
             "minorgridcolor": "white",
             "startlinecolor": "#2a3f5f"
            },
            "type": "carpet"
           }
          ],
          "choropleth": [
           {
            "colorbar": {
             "outlinewidth": 0,
             "ticks": ""
            },
            "type": "choropleth"
           }
          ],
          "contour": [
           {
            "colorbar": {
             "outlinewidth": 0,
             "ticks": ""
            },
            "colorscale": [
             [
              0,
              "#0d0887"
             ],
             [
              0.1111111111111111,
              "#46039f"
             ],
             [
              0.2222222222222222,
              "#7201a8"
             ],
             [
              0.3333333333333333,
              "#9c179e"
             ],
             [
              0.4444444444444444,
              "#bd3786"
             ],
             [
              0.5555555555555556,
              "#d8576b"
             ],
             [
              0.6666666666666666,
              "#ed7953"
             ],
             [
              0.7777777777777778,
              "#fb9f3a"
             ],
             [
              0.8888888888888888,
              "#fdca26"
             ],
             [
              1,
              "#f0f921"
             ]
            ],
            "type": "contour"
           }
          ],
          "contourcarpet": [
           {
            "colorbar": {
             "outlinewidth": 0,
             "ticks": ""
            },
            "type": "contourcarpet"
           }
          ],
          "heatmap": [
           {
            "colorbar": {
             "outlinewidth": 0,
             "ticks": ""
            },
            "colorscale": [
             [
              0,
              "#0d0887"
             ],
             [
              0.1111111111111111,
              "#46039f"
             ],
             [
              0.2222222222222222,
              "#7201a8"
             ],
             [
              0.3333333333333333,
              "#9c179e"
             ],
             [
              0.4444444444444444,
              "#bd3786"
             ],
             [
              0.5555555555555556,
              "#d8576b"
             ],
             [
              0.6666666666666666,
              "#ed7953"
             ],
             [
              0.7777777777777778,
              "#fb9f3a"
             ],
             [
              0.8888888888888888,
              "#fdca26"
             ],
             [
              1,
              "#f0f921"
             ]
            ],
            "type": "heatmap"
           }
          ],
          "heatmapgl": [
           {
            "colorbar": {
             "outlinewidth": 0,
             "ticks": ""
            },
            "colorscale": [
             [
              0,
              "#0d0887"
             ],
             [
              0.1111111111111111,
              "#46039f"
             ],
             [
              0.2222222222222222,
              "#7201a8"
             ],
             [
              0.3333333333333333,
              "#9c179e"
             ],
             [
              0.4444444444444444,
              "#bd3786"
             ],
             [
              0.5555555555555556,
              "#d8576b"
             ],
             [
              0.6666666666666666,
              "#ed7953"
             ],
             [
              0.7777777777777778,
              "#fb9f3a"
             ],
             [
              0.8888888888888888,
              "#fdca26"
             ],
             [
              1,
              "#f0f921"
             ]
            ],
            "type": "heatmapgl"
           }
          ],
          "histogram": [
           {
            "marker": {
             "colorbar": {
              "outlinewidth": 0,
              "ticks": ""
             }
            },
            "type": "histogram"
           }
          ],
          "histogram2d": [
           {
            "colorbar": {
             "outlinewidth": 0,
             "ticks": ""
            },
            "colorscale": [
             [
              0,
              "#0d0887"
             ],
             [
              0.1111111111111111,
              "#46039f"
             ],
             [
              0.2222222222222222,
              "#7201a8"
             ],
             [
              0.3333333333333333,
              "#9c179e"
             ],
             [
              0.4444444444444444,
              "#bd3786"
             ],
             [
              0.5555555555555556,
              "#d8576b"
             ],
             [
              0.6666666666666666,
              "#ed7953"
             ],
             [
              0.7777777777777778,
              "#fb9f3a"
             ],
             [
              0.8888888888888888,
              "#fdca26"
             ],
             [
              1,
              "#f0f921"
             ]
            ],
            "type": "histogram2d"
           }
          ],
          "histogram2dcontour": [
           {
            "colorbar": {
             "outlinewidth": 0,
             "ticks": ""
            },
            "colorscale": [
             [
              0,
              "#0d0887"
             ],
             [
              0.1111111111111111,
              "#46039f"
             ],
             [
              0.2222222222222222,
              "#7201a8"
             ],
             [
              0.3333333333333333,
              "#9c179e"
             ],
             [
              0.4444444444444444,
              "#bd3786"
             ],
             [
              0.5555555555555556,
              "#d8576b"
             ],
             [
              0.6666666666666666,
              "#ed7953"
             ],
             [
              0.7777777777777778,
              "#fb9f3a"
             ],
             [
              0.8888888888888888,
              "#fdca26"
             ],
             [
              1,
              "#f0f921"
             ]
            ],
            "type": "histogram2dcontour"
           }
          ],
          "mesh3d": [
           {
            "colorbar": {
             "outlinewidth": 0,
             "ticks": ""
            },
            "type": "mesh3d"
           }
          ],
          "parcoords": [
           {
            "line": {
             "colorbar": {
              "outlinewidth": 0,
              "ticks": ""
             }
            },
            "type": "parcoords"
           }
          ],
          "pie": [
           {
            "automargin": true,
            "type": "pie"
           }
          ],
          "scatter": [
           {
            "marker": {
             "colorbar": {
              "outlinewidth": 0,
              "ticks": ""
             }
            },
            "type": "scatter"
           }
          ],
          "scatter3d": [
           {
            "line": {
             "colorbar": {
              "outlinewidth": 0,
              "ticks": ""
             }
            },
            "marker": {
             "colorbar": {
              "outlinewidth": 0,
              "ticks": ""
             }
            },
            "type": "scatter3d"
           }
          ],
          "scattercarpet": [
           {
            "marker": {
             "colorbar": {
              "outlinewidth": 0,
              "ticks": ""
             }
            },
            "type": "scattercarpet"
           }
          ],
          "scattergeo": [
           {
            "marker": {
             "colorbar": {
              "outlinewidth": 0,
              "ticks": ""
             }
            },
            "type": "scattergeo"
           }
          ],
          "scattergl": [
           {
            "marker": {
             "colorbar": {
              "outlinewidth": 0,
              "ticks": ""
             }
            },
            "type": "scattergl"
           }
          ],
          "scattermapbox": [
           {
            "marker": {
             "colorbar": {
              "outlinewidth": 0,
              "ticks": ""
             }
            },
            "type": "scattermapbox"
           }
          ],
          "scatterpolar": [
           {
            "marker": {
             "colorbar": {
              "outlinewidth": 0,
              "ticks": ""
             }
            },
            "type": "scatterpolar"
           }
          ],
          "scatterpolargl": [
           {
            "marker": {
             "colorbar": {
              "outlinewidth": 0,
              "ticks": ""
             }
            },
            "type": "scatterpolargl"
           }
          ],
          "scatterternary": [
           {
            "marker": {
             "colorbar": {
              "outlinewidth": 0,
              "ticks": ""
             }
            },
            "type": "scatterternary"
           }
          ],
          "surface": [
           {
            "colorbar": {
             "outlinewidth": 0,
             "ticks": ""
            },
            "colorscale": [
             [
              0,
              "#0d0887"
             ],
             [
              0.1111111111111111,
              "#46039f"
             ],
             [
              0.2222222222222222,
              "#7201a8"
             ],
             [
              0.3333333333333333,
              "#9c179e"
             ],
             [
              0.4444444444444444,
              "#bd3786"
             ],
             [
              0.5555555555555556,
              "#d8576b"
             ],
             [
              0.6666666666666666,
              "#ed7953"
             ],
             [
              0.7777777777777778,
              "#fb9f3a"
             ],
             [
              0.8888888888888888,
              "#fdca26"
             ],
             [
              1,
              "#f0f921"
             ]
            ],
            "type": "surface"
           }
          ],
          "table": [
           {
            "cells": {
             "fill": {
              "color": "#EBF0F8"
             },
             "line": {
              "color": "white"
             }
            },
            "header": {
             "fill": {
              "color": "#C8D4E3"
             },
             "line": {
              "color": "white"
             }
            },
            "type": "table"
           }
          ]
         },
         "layout": {
          "annotationdefaults": {
           "arrowcolor": "#2a3f5f",
           "arrowhead": 0,
           "arrowwidth": 1
          },
          "coloraxis": {
           "colorbar": {
            "outlinewidth": 0,
            "ticks": ""
           }
          },
          "colorscale": {
           "diverging": [
            [
             0,
             "#8e0152"
            ],
            [
             0.1,
             "#c51b7d"
            ],
            [
             0.2,
             "#de77ae"
            ],
            [
             0.3,
             "#f1b6da"
            ],
            [
             0.4,
             "#fde0ef"
            ],
            [
             0.5,
             "#f7f7f7"
            ],
            [
             0.6,
             "#e6f5d0"
            ],
            [
             0.7,
             "#b8e186"
            ],
            [
             0.8,
             "#7fbc41"
            ],
            [
             0.9,
             "#4d9221"
            ],
            [
             1,
             "#276419"
            ]
           ],
           "sequential": [
            [
             0,
             "#0d0887"
            ],
            [
             0.1111111111111111,
             "#46039f"
            ],
            [
             0.2222222222222222,
             "#7201a8"
            ],
            [
             0.3333333333333333,
             "#9c179e"
            ],
            [
             0.4444444444444444,
             "#bd3786"
            ],
            [
             0.5555555555555556,
             "#d8576b"
            ],
            [
             0.6666666666666666,
             "#ed7953"
            ],
            [
             0.7777777777777778,
             "#fb9f3a"
            ],
            [
             0.8888888888888888,
             "#fdca26"
            ],
            [
             1,
             "#f0f921"
            ]
           ],
           "sequentialminus": [
            [
             0,
             "#0d0887"
            ],
            [
             0.1111111111111111,
             "#46039f"
            ],
            [
             0.2222222222222222,
             "#7201a8"
            ],
            [
             0.3333333333333333,
             "#9c179e"
            ],
            [
             0.4444444444444444,
             "#bd3786"
            ],
            [
             0.5555555555555556,
             "#d8576b"
            ],
            [
             0.6666666666666666,
             "#ed7953"
            ],
            [
             0.7777777777777778,
             "#fb9f3a"
            ],
            [
             0.8888888888888888,
             "#fdca26"
            ],
            [
             1,
             "#f0f921"
            ]
           ]
          },
          "colorway": [
           "#636efa",
           "#EF553B",
           "#00cc96",
           "#ab63fa",
           "#FFA15A",
           "#19d3f3",
           "#FF6692",
           "#B6E880",
           "#FF97FF",
           "#FECB52"
          ],
          "font": {
           "color": "#2a3f5f"
          },
          "geo": {
           "bgcolor": "white",
           "lakecolor": "white",
           "landcolor": "#E5ECF6",
           "showlakes": true,
           "showland": true,
           "subunitcolor": "white"
          },
          "hoverlabel": {
           "align": "left"
          },
          "hovermode": "closest",
          "mapbox": {
           "style": "light"
          },
          "paper_bgcolor": "white",
          "plot_bgcolor": "#E5ECF6",
          "polar": {
           "angularaxis": {
            "gridcolor": "white",
            "linecolor": "white",
            "ticks": ""
           },
           "bgcolor": "#E5ECF6",
           "radialaxis": {
            "gridcolor": "white",
            "linecolor": "white",
            "ticks": ""
           }
          },
          "scene": {
           "xaxis": {
            "backgroundcolor": "#E5ECF6",
            "gridcolor": "white",
            "gridwidth": 2,
            "linecolor": "white",
            "showbackground": true,
            "ticks": "",
            "zerolinecolor": "white"
           },
           "yaxis": {
            "backgroundcolor": "#E5ECF6",
            "gridcolor": "white",
            "gridwidth": 2,
            "linecolor": "white",
            "showbackground": true,
            "ticks": "",
            "zerolinecolor": "white"
           },
           "zaxis": {
            "backgroundcolor": "#E5ECF6",
            "gridcolor": "white",
            "gridwidth": 2,
            "linecolor": "white",
            "showbackground": true,
            "ticks": "",
            "zerolinecolor": "white"
           }
          },
          "shapedefaults": {
           "line": {
            "color": "#2a3f5f"
           }
          },
          "ternary": {
           "aaxis": {
            "gridcolor": "white",
            "linecolor": "white",
            "ticks": ""
           },
           "baxis": {
            "gridcolor": "white",
            "linecolor": "white",
            "ticks": ""
           },
           "bgcolor": "#E5ECF6",
           "caxis": {
            "gridcolor": "white",
            "linecolor": "white",
            "ticks": ""
           }
          },
          "title": {
           "x": 0.05
          },
          "xaxis": {
           "automargin": true,
           "gridcolor": "white",
           "linecolor": "white",
           "ticks": "",
           "title": {
            "standoff": 15
           },
           "zerolinecolor": "white",
           "zerolinewidth": 2
          },
          "yaxis": {
           "automargin": true,
           "gridcolor": "white",
           "linecolor": "white",
           "ticks": "",
           "title": {
            "standoff": 15
           },
           "zerolinecolor": "white",
           "zerolinewidth": 2
          }
         }
        }
       }
      }
     },
     "metadata": {},
     "output_type": "display_data"
    }
   ],
   "source": [
    "fig = px.scatter_mapbox(final_df, lat=\"lat\", lon=\"lon\", color=\"T_Average\", zoom =4,size=\"T_Average\",size_max=10,\n",
    "                        mapbox_style=\"open-street-map\", color_continuous_scale = 'Bluered', range_color = [8,20.0],\n",
    "                       )\n",
    "fig.show()\n"
   ]
  }
 ],
 "metadata": {
  "interpreter": {
   "hash": "8cb6cc137b3197e0b7ce4f00b228307119c3d08b3d424b35089c104a94505f33"
  },
  "kernelspec": {
   "display_name": "Python 3.7.10 64-bit ('base': conda)",
   "name": "python3"
  },
  "language_info": {
   "codemirror_mode": {
    "name": "ipython",
    "version": 3
   },
   "file_extension": ".py",
   "mimetype": "text/x-python",
   "name": "python",
   "nbconvert_exporter": "python",
   "pygments_lexer": "ipython3",
   "version": "3.7.10"
  }
 },
 "nbformat": 4,
 "nbformat_minor": 2
}
