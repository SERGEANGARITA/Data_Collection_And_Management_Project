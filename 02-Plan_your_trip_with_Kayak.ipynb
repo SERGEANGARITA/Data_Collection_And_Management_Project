{
 "cells": [
  {
   "cell_type": "markdown",
   "metadata": {},
   "source": [
    "# Project: planning my next holidays ☀️\n",
    "\n",
    "Let's create a script that allows to get some information about all the hotels in a given city on <a href=\"https://www.booking.com\" target=\"_blank\">www.booking.com</a> 🧙\n",
    "\n",
    "**We strongly recommend that you use Scrapy, it will be much easier!**\n",
    "\n",
    "You can scrap as many information as you want, but we suggest that you get at least:\n",
    "\n",
    "* The hotel name, \n",
    "* The url to its booking.com page, \n",
    "* Its coordinates: latitude and longitude,\n",
    "* The score given by the website users,\n",
    "* The text description of the hotel.\n",
    "\n",
    "Then, you can execute this script for several cities from yesterday's list. Make sure you save the results in different files for each city and that the name of the city is stored in the filename (for later purposes 😉)."
   ]
  },
  {
   "cell_type": "code",
   "execution_count": 4,
   "metadata": {},
   "outputs": [],
   "source": [
    "import os\n",
    "import logging\n",
    "\n",
    "import scrapy\n",
    "from scrapy.crawler import CrawlerProcess\n",
    "\n",
    "import pandas as pd"
   ]
  },
  {
   "cell_type": "code",
   "execution_count": 2,
   "metadata": {},
   "outputs": [
    {
     "data": {
      "text/plain": [
       "35"
      ]
     },
     "execution_count": 2,
     "metadata": {},
     "output_type": "execute_result"
    }
   ],
   "source": [
    "destination_name = \"Paris\"\n",
    "\n",
    "top_35_cities=[\"Mont-Saint-Michel\", \"St-Malo\", \"Bayeux\", \"Le-Havre\", \"Rouen\", \"Paris\", \"Amiens\", \"Lille\", \"Strasbourg\",\n",
    "\"Chateau-du-Haut-Koenigsbourg\",\"Colmar\", \"Eguisheim\", \"Besancon\", \"Dijon\",\"Annecy\", \"Grenoble\", \"Lyon\", \"Gorges-du-Verdon\",\n",
    "\"Bormes-les-Mimosas\", \"Cassis\", \"Marseille\", \"Aix-en-Provence\", \"Avignon\", \"Uzes\", \"Nimes\", \"Aigues-Mortes\",\n",
    "\"Saintes-Maries-de-la-mer\", \"Collioure\", \"Carcassonne\", \"Ariege\", \"Toulouse\", \"Montauban\", \"Biarritz\", \"Bayonne\",\n",
    "\"La-Rochelle\"]\n",
    "len(top_35_cities)"
   ]
  },
  {
   "cell_type": "code",
   "execution_count": 3,
   "metadata": {},
   "outputs": [],
   "source": [
    "class Hotels(scrapy.Spider):\n",
    "    # Name of your spider\n",
    "    name = \"hotels\"\n",
    "\n",
    "    # Starting URL\n",
    "    start_urls = ['https://www.booking.com/index.fr.html']\n",
    "    \n",
    "    # Parse function for login\n",
    "    def parse(self, response):\n",
    "        # FormRequest used to login\n",
    "        return scrapy.FormRequest.from_response(\n",
    "            response,\n",
    "            formdata={'ss': destination_name},\n",
    "            callback=self.after_search\n",
    "        )\n",
    "\n",
    "    # Callback used after login\n",
    "    def after_search(self, response):\n",
    "        \n",
    "        hotels = response.css('.sr_item')\n",
    "\n",
    "        for h in hotels:\n",
    "            yield {\n",
    "                'name': h.css('.sr-hotel__name::text').get(),\n",
    "                'url': \"https://www.booking.com\" + h.css('.hotel_name_link').attrib[\"href\"],\n",
    "                'coords': h.css('.sr_card_address_line a').attrib[\"data-coords\"],\n",
    "                'score': h.css('.bui-review-score__badge::text').get(),\n",
    "                'description': h.css('.hotel_desc::text').get()\n",
    "                }\n",
    "        \n",
    "        \n",
    "        # Select the NEXT button and store it in next_page\n",
    "        try:\n",
    "            next_page = response.css('a.paging-next').attrib[\"href\"]\n",
    "        except KeyError:\n",
    "            logging.info('No next page. Terminating crawling process.')\n",
    "        else:\n",
    "            yield response.follow(next_page, callback=self.after_search)"
   ]
  },
  {
   "cell_type": "code",
   "execution_count": 4,
   "metadata": {},
   "outputs": [],
   "source": [
    "class Hotels(scrapy.Spider):\n",
    "    # Name of your spider\n",
    "    name = \"hotels\"\n",
    "\n",
    "    # Starting URL\n",
    "    start_urls = ['https://www.booking.com/index.fr.html']\n",
    "    \n",
    "    # Parse function for login\n",
    "    def parse(self, response):\n",
    "        # FormRequest used to login\n",
    "        return scrapy.FormRequest.from_response(\n",
    "            response,\n",
    "            formdata={'ss': destination_name},\n",
    "            callback=self.after_search\n",
    "        )\n",
    "\n",
    "    # Callback used after login\n",
    "    def after_search(self, response):\n",
    "        \n",
    "        hotels = response.css('.sr_item')\n",
    "\n",
    "        for h in hotels:\n",
    "            yield {\n",
    "                'name': h.css('.sr-hotel__name::text').get(),\n",
    "                'url': \"https://www.booking.com\" + h.css('.hotel_name_link').attrib[\"href\"],\n",
    "                'coords': h.css('.sr_card_address_line a').attrib[\"data-coords\"],\n",
    "                'score': h.css('.bui-review-score__badge::text').get(),\n",
    "                'description': h.css('.hotel_desc::text').get()\n",
    "                }\n",
    "        \n",
    "        \n",
    "        # Select the NEXT button and store it in next_page\n",
    "        try:\n",
    "            next_page = response.css('a.paging-next').attrib[\"href\"]\n",
    "        except KeyError:\n",
    "            logging.info('No next page. Terminating crawling process.')\n",
    "        else:\n",
    "            yield response.follow(next_page, callback=self.after_search)"
   ]
  },
  {
   "cell_type": "code",
   "execution_count": 5,
   "metadata": {},
   "outputs": [],
   "source": [
    "\n",
    "filename = \"hotels_\" + destination_name.replace(\" \", \"-\") + \".json\"\n",
    "\n",
    "if filename in os.listdir('/Users/saas1/Desktop/'):\n",
    "        os.remove('/Users/saas1/Desktop/' + filename)\n",
    "\n",
    "process = CrawlerProcess(settings = {\n",
    "    'USER_AGENT': 'Chrome/84.0 (compatible; MSIE 7.0; Windows NT 5.1)',\n",
    "    'LOG_LEVEL': logging.ERROR,\n",
    "    \"FEEDS\": {\n",
    "        '/Users/saas1/Desktop/' + filename: {\"format\": \"json\"},\n",
    "    }\n",
    "})\n",
    "\n",
    "process.crawl(Hotels)\n",
    "process.start()"
   ]
  },
  {
   "cell_type": "code",
   "execution_count": 5,
   "metadata": {},
   "outputs": [],
   "source": [
    "path_to_file=\"/Users/saas1/OneDrive/Escritorio/introduction_to_ python_for_data_science/Projects/Project_3/Project/hotels_\"\n",
    "\n",
    "data_frame=pd.DataFrame()\n",
    "\n",
    "top_35_cities=[\"Mont-Saint-Michel\", \"St-Malo\", \"Bayeux\", \"Le-Havre\", \"Rouen\", \"Paris\", \"Amiens\", \"Lille\", \"Strasbourg\",\n",
    "\"Chateau-du-Haut-Koenigsbourg\",\"Colmar\", \"Eguisheim\", \"Besancon\", \"Dijon\",\"Annecy\", \"Grenoble\", \"Lyon\", \"Gorges-du-Verdon\",\n",
    "\"Bormes-les-Mimosas\", \"Cassis\", \"Marseille\", \"Aix-en-Provence\", \"Avignon\", \"Uzes\", \"Nimes\", \"Aigues-Mortes\",\n",
    "\"Saintes-Maries-de-la-mer\", \"Collioure\", \"Carcassonne\", \"Ariege\", \"Toulouse\", \"Montauban\", \"Biarritz\", \"Bayonne\",\n",
    "\"La-Rochelle\"]\n",
    "\n",
    "for city in top_35_cities:\n",
    "    data=pd.read_json(path_to_file+city+\".json\")\n",
    "    data[\"city\"]=city\n",
    "    data_frame=data_frame.append(data)"
   ]
  },
  {
   "cell_type": "code",
   "execution_count": 6,
   "metadata": {},
   "outputs": [],
   "source": [
    "data_frame['name'] = data_frame['name'].replace('\\n','', regex=True)\n",
    "data_frame[\"url\"] = data_frame['url'].replace('\\n','', regex=True)\n",
    "data_frame[\"description\"] = data_frame['description'].replace('\\n','', regex=True)\n"
   ]
  },
  {
   "cell_type": "code",
   "execution_count": 7,
   "metadata": {},
   "outputs": [],
   "source": [
    "data_frame[[\"lon\", \"lat\"]] = data_frame[\"coords\"].str.split(pat=\",\", expand=True)\n",
    "data_frame=data_frame.drop(columns=['coords'])"
   ]
  },
  {
   "cell_type": "code",
   "execution_count": 8,
   "metadata": {},
   "outputs": [],
   "source": [
    "foo = (1, 2, 3)\n",
    "bar = (4, 5, 6)\n",
    "\n",
    "cities_=[\"Mont-Saint-Michel\", \"St-Malo\", \"Le-Havre\",\"Chateau-du-Haut-Koenigsbourg\",\"Gorges-du-Verdon\",\n",
    "\"Bormes-les-Mimosas\", \"Aix-en-Provence\", \"Aigues-Mortes\",\"Saintes-Maries-de-la-mer\",\"La-Rochelle\"]\n",
    "cities=[\"Mont Saint Michel\", \"St Malo\", \"Le Havre\",\"Chateau du Haut Koenigsbourg\",\"Gorges du Verdon\",\n",
    "\"Bormes les Mimosas\", \"Aix en Provence\", \"Aigues Mortes\",\"Saintes Maries de la mer\",\"La Rochelle\"]\n",
    "\n",
    "for (city_, city) in zip(cities_, cities):\n",
    "    data_frame['city'] = data_frame['city'].replace(city_,city, regex=True)\n",
    "\n",
    "data_frame['lat'] = data_frame['lat'].astype(float)\n",
    "data_frame['lon'] = data_frame['lon'].astype(float)\n",
    "\n",
    "data_frame=data_frame.reset_index(drop=True)"
   ]
  },
  {
   "cell_type": "code",
   "execution_count": 9,
   "metadata": {},
   "outputs": [
    {
     "data": {
      "text/html": [
       "<div>\n",
       "<style scoped>\n",
       "    .dataframe tbody tr th:only-of-type {\n",
       "        vertical-align: middle;\n",
       "    }\n",
       "\n",
       "    .dataframe tbody tr th {\n",
       "        vertical-align: top;\n",
       "    }\n",
       "\n",
       "    .dataframe thead th {\n",
       "        text-align: right;\n",
       "    }\n",
       "</style>\n",
       "<table border=\"1\" class=\"dataframe\">\n",
       "  <thead>\n",
       "    <tr style=\"text-align: right;\">\n",
       "      <th></th>\n",
       "      <th>name</th>\n",
       "      <th>url</th>\n",
       "      <th>score</th>\n",
       "      <th>description</th>\n",
       "      <th>city</th>\n",
       "      <th>lon</th>\n",
       "      <th>lat</th>\n",
       "    </tr>\n",
       "  </thead>\n",
       "  <tbody>\n",
       "    <tr>\n",
       "      <th>0</th>\n",
       "      <td>Hôtel Vert</td>\n",
       "      <td>https://www.booking.com/hotel/fr/vert.fr.html?...</td>\n",
       "      <td>8,1</td>\n",
       "      <td>Situé à 2 km du Mont-Saint-Michel, sur la côte...</td>\n",
       "      <td>Mont Saint Michel</td>\n",
       "      <td>-1.509617</td>\n",
       "      <td>48.614700</td>\n",
       "    </tr>\n",
       "    <tr>\n",
       "      <th>1</th>\n",
       "      <td>Mercure Mont Saint Michel</td>\n",
       "      <td>https://www.booking.com/hotel/fr/mont-saint-mi...</td>\n",
       "      <td>8,2</td>\n",
       "      <td>Installé dans des espaces verts à seulement 2 ...</td>\n",
       "      <td>Mont Saint Michel</td>\n",
       "      <td>-1.510545</td>\n",
       "      <td>48.614247</td>\n",
       "    </tr>\n",
       "    <tr>\n",
       "      <th>2</th>\n",
       "      <td>Hotel De La Digue</td>\n",
       "      <td>https://www.booking.com/hotel/fr/de-la-digue.f...</td>\n",
       "      <td>7,1</td>\n",
       "      <td>L'hôtel De La Digue est un établissement tradi...</td>\n",
       "      <td>Mont Saint Michel</td>\n",
       "      <td>-1.510918</td>\n",
       "      <td>48.616882</td>\n",
       "    </tr>\n",
       "    <tr>\n",
       "      <th>3</th>\n",
       "      <td>Le Saint Aubert</td>\n",
       "      <td>https://www.booking.com/hotel/fr/hotel-saint-a...</td>\n",
       "      <td>7,3</td>\n",
       "      <td>Niché dans un écrin de verdure, à seulement 2 ...</td>\n",
       "      <td>Mont Saint Michel</td>\n",
       "      <td>-1.510105</td>\n",
       "      <td>48.612938</td>\n",
       "    </tr>\n",
       "    <tr>\n",
       "      <th>4</th>\n",
       "      <td>Les Terrasses Poulard</td>\n",
       "      <td>https://www.booking.com/hotel/fr/les-terrasses...</td>\n",
       "      <td>7,3</td>\n",
       "      <td>Occupant 2 bâtiments différents au cœur du Mon...</td>\n",
       "      <td>Mont Saint Michel</td>\n",
       "      <td>-1.510379</td>\n",
       "      <td>48.635349</td>\n",
       "    </tr>\n",
       "  </tbody>\n",
       "</table>\n",
       "</div>"
      ],
      "text/plain": [
       "                        name  \\\n",
       "0                 Hôtel Vert   \n",
       "1  Mercure Mont Saint Michel   \n",
       "2          Hotel De La Digue   \n",
       "3            Le Saint Aubert   \n",
       "4      Les Terrasses Poulard   \n",
       "\n",
       "                                                 url  score  \\\n",
       "0  https://www.booking.com/hotel/fr/vert.fr.html?...   8,1    \n",
       "1  https://www.booking.com/hotel/fr/mont-saint-mi...   8,2    \n",
       "2  https://www.booking.com/hotel/fr/de-la-digue.f...   7,1    \n",
       "3  https://www.booking.com/hotel/fr/hotel-saint-a...   7,3    \n",
       "4  https://www.booking.com/hotel/fr/les-terrasses...   7,3    \n",
       "\n",
       "                                         description               city  \\\n",
       "0  Situé à 2 km du Mont-Saint-Michel, sur la côte...  Mont Saint Michel   \n",
       "1  Installé dans des espaces verts à seulement 2 ...  Mont Saint Michel   \n",
       "2  L'hôtel De La Digue est un établissement tradi...  Mont Saint Michel   \n",
       "3  Niché dans un écrin de verdure, à seulement 2 ...  Mont Saint Michel   \n",
       "4  Occupant 2 bâtiments différents au cœur du Mon...  Mont Saint Michel   \n",
       "\n",
       "        lon        lat  \n",
       "0 -1.509617  48.614700  \n",
       "1 -1.510545  48.614247  \n",
       "2 -1.510918  48.616882  \n",
       "3 -1.510105  48.612938  \n",
       "4 -1.510379  48.635349  "
      ]
     },
     "execution_count": 9,
     "metadata": {},
     "output_type": "execute_result"
    }
   ],
   "source": [
    "data_frame.head()"
   ]
  },
  {
   "cell_type": "code",
   "execution_count": 10,
   "metadata": {},
   "outputs": [],
   "source": [
    "data_frame.to_excel(\"hotel.xlsx\")\n",
    "data_frame.to_csv(\"hotel.csv\")"
   ]
  },
  {
   "cell_type": "code",
   "execution_count": null,
   "metadata": {},
   "outputs": [],
   "source": []
  }
 ],
 "metadata": {
  "interpreter": {
   "hash": "8cb6cc137b3197e0b7ce4f00b228307119c3d08b3d424b35089c104a94505f33"
  },
  "kernelspec": {
   "display_name": "Python 3.7.10 64-bit ('base': conda)",
   "name": "python3"
  },
  "language_info": {
   "codemirror_mode": {
    "name": "ipython",
    "version": 3
   },
   "file_extension": ".py",
   "mimetype": "text/x-python",
   "name": "python",
   "nbconvert_exporter": "python",
   "pygments_lexer": "ipython3",
   "version": "3.7.10"
  }
 },
 "nbformat": 4,
 "nbformat_minor": 4
}
